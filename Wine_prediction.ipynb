{
 "cells": [
  {
   "cell_type": "code",
   "execution_count": 1,
   "metadata": {},
   "outputs": [],
   "source": [
    "import matplotlib.pyplot as plt\n",
    "import numpy as np\n",
    "import os\n",
    "import pandas as pd\n",
    "import calendar\n",
    "import seaborn as sns\n",
    "\n",
    "from sklearn.preprocessing import OneHotEncoder,StandardScaler,Binarizer,PowerTransformer,FunctionTransformer,KBinsDiscretizer\n",
    "from sklearn.compose import ColumnTransformer\n",
    "from sklearn.pipeline import Pipeline\n",
    "\n",
    "\n",
    "\n",
    "\n",
    "from sklearn.ensemble import RandomForestClassifier\n",
    "from sklearn.model_selection import GridSearchCV,RandomizedSearchCV,learning_curve, cross_val_score,train_test_split\n",
    "from sklearn.feature_selection import SelectKBest,f_classif, f_regression,chi2\n",
    "from sklearn.linear_model import LinearRegression,LogisticRegression\n",
    "from sklearn.metrics import confusion_matrix\n",
    "from sklearn.tree import DecisionTreeClassifier\n",
    "\n",
    "\n",
    "\n",
    "from sklearn.decomposition import PCA\n",
    "from sklearn import svm\n",
    "from sklearn.svm import LinearSVC\n",
    "from sklearn.naive_bayes import GaussianNB\n",
    "from sklearn.linear_model import SGDClassifier"
   ]
  },
  {
   "cell_type": "markdown",
   "metadata": {},
   "source": [
    "## Summary of Data Science Process & Findings "
   ]
  },
  {
   "cell_type": "markdown",
   "metadata": {},
   "source": [
    "- Goal: Predict wine quality through other variables(acidity, sugar level, chlorides, sulfur dioxide, density, pH, sulphates, and alcohol)\n",
    "- EDA\n",
    "    - created feature engineered values diff acidity(fixed acidity - volatile acidity) and diff dioxide(total sulfur dioxide - free sulfur dioxide), as those values have similarity in measurements. Quantifying the differences might be contributive toward further predictions of wine quality\n",
    "    - data is already cleaned, no null and extreme/unpractical outliers\n",
    "    - wine quality is most correlated with volatile acidity and alcohol by heatmap and correlation\n",
    "        -  \"diff dioxide\", \"total sulfur dioxide\", \"free sulfur dioxide\", \"alcohol\", and \"diff acidity\" are selected using SelectkBest\n",
    "- predictions\n",
    "    - feature engineer data\n",
    "        - utilize binarizers(thresholding) and kBinsDiscretizer\n",
    "        - utilize pipeline to automate and deal with feature engineering coherently\n",
    "    - RandomForestClassifiers using GridSearchCV and randomSearchCV\n",
    "        -plot training accuracy and testing accuracy with respect to random_states, max_depth, test_size, and etc\n",
    "    \n",
    "    - Support Vector Machines\n",
    "        - Experiment SVC with linear, rbf, polynomial kernel\n",
    "            -linear and polynomial kernel doesn't converge, therefore RBF is used\n",
    "        - Tune Parameters (C, gamma, degree)\n",
    "            - larger C avoids misclassification and potentially overfits\n",
    "    - Guassian Naive Bayes\n",
    "        -Doesn't perform as well as other models mentioned above\n",
    "    - Stochastic Gradient Descent \n",
    "        -Doesn't perform well since increment in number of iterations doesn't improve its accuracy\n",
    "            \n",
    "- Conclusion\n",
    "    - This project is a practice and demo of data science cycle, including Exploratory Data Analysis, Data Engineering, and Data Modelling (machine learning prediction). Due to limitations in domain knowledge, data engineering is restricted and doesn't raise the accuracy by a large amount. Within machine learning prediction, the goal was to predict the level of wine quality, and most of the predictions were accurate. RandomForestClassifier yields the best prediction accuracy, yet the training data sometimes overfit(training accuracy = 1). On the other hand, support vector machine has an accuracy around 85%, yet the training accuracy doesn't excel too much. Gaussian Naive Bayes and Stochastic Gradient Descent Classifier doesn't work well on the data, due to assumptions made on the models and can be inferred by the plots being drawn. Further research is required to make better engineered feature and optimize model through parameter tuning.<br> **Below are detailed descriptions,code, and plots of my work**"
   ]
  },
  {
   "cell_type": "markdown",
   "metadata": {},
   "source": [
    "## EDA"
   ]
  },
  {
   "cell_type": "code",
   "execution_count": 58,
   "metadata": {},
   "outputs": [],
   "source": [
    "wine=pd.read_csv(\"winequality-red.csv\")\n",
    "#feature engineered columns\n",
    "wine[\"diff acidity\"]=wine[\"fixed acidity\"]-wine[\"volatile acidity\"]\n",
    "wine[\"diff dioxide\"]=wine[\"total sulfur dioxide\"]-wine[\"free sulfur dioxide\"]"
   ]
  },
  {
   "cell_type": "code",
   "execution_count": 3,
   "metadata": {
    "scrolled": true
   },
   "outputs": [
    {
     "name": "stdout",
     "output_type": "stream",
     "text": [
      "<class 'pandas.core.frame.DataFrame'>\n",
      "RangeIndex: 1599 entries, 0 to 1598\n",
      "Data columns (total 14 columns):\n",
      " #   Column                Non-Null Count  Dtype  \n",
      "---  ------                --------------  -----  \n",
      " 0   fixed acidity         1599 non-null   float64\n",
      " 1   volatile acidity      1599 non-null   float64\n",
      " 2   citric acid           1599 non-null   float64\n",
      " 3   residual sugar        1599 non-null   float64\n",
      " 4   chlorides             1599 non-null   float64\n",
      " 5   free sulfur dioxide   1599 non-null   float64\n",
      " 6   total sulfur dioxide  1599 non-null   float64\n",
      " 7   density               1599 non-null   float64\n",
      " 8   pH                    1599 non-null   float64\n",
      " 9   sulphates             1599 non-null   float64\n",
      " 10  alcohol               1599 non-null   float64\n",
      " 11  quality               1599 non-null   int64  \n",
      " 12  diff acidity          1599 non-null   float64\n",
      " 13  diff dioxide          1599 non-null   float64\n",
      "dtypes: float64(13), int64(1)\n",
      "memory usage: 175.0 KB\n"
     ]
    }
   ],
   "source": [
    "wine.info()"
   ]
  },
  {
   "cell_type": "code",
   "execution_count": 59,
   "metadata": {},
   "outputs": [
    {
     "data": {
      "text/html": [
       "<div>\n",
       "<style scoped>\n",
       "    .dataframe tbody tr th:only-of-type {\n",
       "        vertical-align: middle;\n",
       "    }\n",
       "\n",
       "    .dataframe tbody tr th {\n",
       "        vertical-align: top;\n",
       "    }\n",
       "\n",
       "    .dataframe thead th {\n",
       "        text-align: right;\n",
       "    }\n",
       "</style>\n",
       "<table border=\"1\" class=\"dataframe\">\n",
       "  <thead>\n",
       "    <tr style=\"text-align: right;\">\n",
       "      <th></th>\n",
       "      <th>fixed acidity</th>\n",
       "      <th>volatile acidity</th>\n",
       "      <th>citric acid</th>\n",
       "      <th>residual sugar</th>\n",
       "      <th>chlorides</th>\n",
       "      <th>free sulfur dioxide</th>\n",
       "      <th>total sulfur dioxide</th>\n",
       "      <th>density</th>\n",
       "      <th>pH</th>\n",
       "      <th>sulphates</th>\n",
       "      <th>alcohol</th>\n",
       "      <th>quality</th>\n",
       "      <th>diff acidity</th>\n",
       "      <th>diff dioxide</th>\n",
       "    </tr>\n",
       "  </thead>\n",
       "  <tbody>\n",
       "    <tr>\n",
       "      <th>count</th>\n",
       "      <td>1599.000000</td>\n",
       "      <td>1599.000000</td>\n",
       "      <td>1599.000000</td>\n",
       "      <td>1599.000000</td>\n",
       "      <td>1599.000000</td>\n",
       "      <td>1599.000000</td>\n",
       "      <td>1599.000000</td>\n",
       "      <td>1599.000000</td>\n",
       "      <td>1599.000000</td>\n",
       "      <td>1599.000000</td>\n",
       "      <td>1599.000000</td>\n",
       "      <td>1599.000000</td>\n",
       "      <td>1599.000000</td>\n",
       "      <td>1599.000000</td>\n",
       "    </tr>\n",
       "    <tr>\n",
       "      <th>mean</th>\n",
       "      <td>8.319637</td>\n",
       "      <td>0.527821</td>\n",
       "      <td>0.270976</td>\n",
       "      <td>2.538806</td>\n",
       "      <td>0.087467</td>\n",
       "      <td>15.874922</td>\n",
       "      <td>46.467792</td>\n",
       "      <td>0.996747</td>\n",
       "      <td>3.311113</td>\n",
       "      <td>0.658149</td>\n",
       "      <td>10.422983</td>\n",
       "      <td>5.636023</td>\n",
       "      <td>7.791817</td>\n",
       "      <td>30.592871</td>\n",
       "    </tr>\n",
       "    <tr>\n",
       "      <th>std</th>\n",
       "      <td>1.741096</td>\n",
       "      <td>0.179060</td>\n",
       "      <td>0.194801</td>\n",
       "      <td>1.409928</td>\n",
       "      <td>0.047065</td>\n",
       "      <td>10.460157</td>\n",
       "      <td>32.895324</td>\n",
       "      <td>0.001887</td>\n",
       "      <td>0.154386</td>\n",
       "      <td>0.169507</td>\n",
       "      <td>1.065668</td>\n",
       "      <td>0.807569</td>\n",
       "      <td>1.795322</td>\n",
       "      <td>27.056279</td>\n",
       "    </tr>\n",
       "    <tr>\n",
       "      <th>min</th>\n",
       "      <td>4.600000</td>\n",
       "      <td>0.120000</td>\n",
       "      <td>0.000000</td>\n",
       "      <td>0.900000</td>\n",
       "      <td>0.012000</td>\n",
       "      <td>1.000000</td>\n",
       "      <td>6.000000</td>\n",
       "      <td>0.990070</td>\n",
       "      <td>2.740000</td>\n",
       "      <td>0.330000</td>\n",
       "      <td>8.400000</td>\n",
       "      <td>3.000000</td>\n",
       "      <td>3.960000</td>\n",
       "      <td>3.000000</td>\n",
       "    </tr>\n",
       "    <tr>\n",
       "      <th>25%</th>\n",
       "      <td>7.100000</td>\n",
       "      <td>0.390000</td>\n",
       "      <td>0.090000</td>\n",
       "      <td>1.900000</td>\n",
       "      <td>0.070000</td>\n",
       "      <td>7.000000</td>\n",
       "      <td>22.000000</td>\n",
       "      <td>0.995600</td>\n",
       "      <td>3.210000</td>\n",
       "      <td>0.550000</td>\n",
       "      <td>9.500000</td>\n",
       "      <td>5.000000</td>\n",
       "      <td>6.540000</td>\n",
       "      <td>12.000000</td>\n",
       "    </tr>\n",
       "    <tr>\n",
       "      <th>50%</th>\n",
       "      <td>7.900000</td>\n",
       "      <td>0.520000</td>\n",
       "      <td>0.260000</td>\n",
       "      <td>2.200000</td>\n",
       "      <td>0.079000</td>\n",
       "      <td>14.000000</td>\n",
       "      <td>38.000000</td>\n",
       "      <td>0.996750</td>\n",
       "      <td>3.310000</td>\n",
       "      <td>0.620000</td>\n",
       "      <td>10.200000</td>\n",
       "      <td>6.000000</td>\n",
       "      <td>7.330000</td>\n",
       "      <td>21.000000</td>\n",
       "    </tr>\n",
       "    <tr>\n",
       "      <th>75%</th>\n",
       "      <td>9.200000</td>\n",
       "      <td>0.640000</td>\n",
       "      <td>0.420000</td>\n",
       "      <td>2.600000</td>\n",
       "      <td>0.090000</td>\n",
       "      <td>21.000000</td>\n",
       "      <td>62.000000</td>\n",
       "      <td>0.997835</td>\n",
       "      <td>3.400000</td>\n",
       "      <td>0.730000</td>\n",
       "      <td>11.100000</td>\n",
       "      <td>6.000000</td>\n",
       "      <td>8.770000</td>\n",
       "      <td>39.000000</td>\n",
       "    </tr>\n",
       "    <tr>\n",
       "      <th>max</th>\n",
       "      <td>15.900000</td>\n",
       "      <td>1.580000</td>\n",
       "      <td>1.000000</td>\n",
       "      <td>15.500000</td>\n",
       "      <td>0.611000</td>\n",
       "      <td>72.000000</td>\n",
       "      <td>289.000000</td>\n",
       "      <td>1.003690</td>\n",
       "      <td>4.010000</td>\n",
       "      <td>2.000000</td>\n",
       "      <td>14.900000</td>\n",
       "      <td>8.000000</td>\n",
       "      <td>15.540000</td>\n",
       "      <td>251.500000</td>\n",
       "    </tr>\n",
       "  </tbody>\n",
       "</table>\n",
       "</div>"
      ],
      "text/plain": [
       "       fixed acidity  volatile acidity  citric acid  residual sugar  \\\n",
       "count    1599.000000       1599.000000  1599.000000     1599.000000   \n",
       "mean        8.319637          0.527821     0.270976        2.538806   \n",
       "std         1.741096          0.179060     0.194801        1.409928   \n",
       "min         4.600000          0.120000     0.000000        0.900000   \n",
       "25%         7.100000          0.390000     0.090000        1.900000   \n",
       "50%         7.900000          0.520000     0.260000        2.200000   \n",
       "75%         9.200000          0.640000     0.420000        2.600000   \n",
       "max        15.900000          1.580000     1.000000       15.500000   \n",
       "\n",
       "         chlorides  free sulfur dioxide  total sulfur dioxide      density  \\\n",
       "count  1599.000000          1599.000000           1599.000000  1599.000000   \n",
       "mean      0.087467            15.874922             46.467792     0.996747   \n",
       "std       0.047065            10.460157             32.895324     0.001887   \n",
       "min       0.012000             1.000000              6.000000     0.990070   \n",
       "25%       0.070000             7.000000             22.000000     0.995600   \n",
       "50%       0.079000            14.000000             38.000000     0.996750   \n",
       "75%       0.090000            21.000000             62.000000     0.997835   \n",
       "max       0.611000            72.000000            289.000000     1.003690   \n",
       "\n",
       "                pH    sulphates      alcohol      quality  diff acidity  \\\n",
       "count  1599.000000  1599.000000  1599.000000  1599.000000   1599.000000   \n",
       "mean      3.311113     0.658149    10.422983     5.636023      7.791817   \n",
       "std       0.154386     0.169507     1.065668     0.807569      1.795322   \n",
       "min       2.740000     0.330000     8.400000     3.000000      3.960000   \n",
       "25%       3.210000     0.550000     9.500000     5.000000      6.540000   \n",
       "50%       3.310000     0.620000    10.200000     6.000000      7.330000   \n",
       "75%       3.400000     0.730000    11.100000     6.000000      8.770000   \n",
       "max       4.010000     2.000000    14.900000     8.000000     15.540000   \n",
       "\n",
       "       diff dioxide  \n",
       "count   1599.000000  \n",
       "mean      30.592871  \n",
       "std       27.056279  \n",
       "min        3.000000  \n",
       "25%       12.000000  \n",
       "50%       21.000000  \n",
       "75%       39.000000  \n",
       "max      251.500000  "
      ]
     },
     "execution_count": 59,
     "metadata": {},
     "output_type": "execute_result"
    }
   ],
   "source": [
    "wine.describe()"
   ]
  },
  {
   "cell_type": "code",
   "execution_count": 134,
   "metadata": {},
   "outputs": [
    {
     "data": {
      "image/png": "[encoded data removed]",
      "text/plain": [
       "<Figure size 1440x1080 with 14 Axes>"
      ]
     },
     "metadata": {},
     "output_type": "display_data"
    }
   ],
   "source": [
    "fig, axs = plt.subplots(2, 7,figsize=(20,15))\n",
    "\n",
    "for i in range(14):\n",
    "    axs[i//7, i%7].hist(wine[wine.columns[i]])\n",
    "    axs[i//7, i%7].set_title(wine.columns[i]+' hist')"
   ]
  },
  {
   "cell_type": "markdown",
   "metadata": {},
   "source": [
    "When histograms for each column are drawn, most histograms are normally distributed or slightly skewed. There aren't extreme outliers, indicating that values are reasonable. Below are other findings\n",
    "- the histogram of \"fixed acidity\" and \"volatile acidity\" histogram have similar shapes, possibly suggesting certain correlations (\"diff acidity\" histogram also looks a bit similar to the two histograms)\n",
    "- the histogram of \"free sulfur dioxide\" and \"total sulfur dioxide\" histogram have similar shapes, possibly suggesting correlations, so is \"diff dioxide\" histogram\n",
    "- \"residual sugar\" and \"chlorides\" histogram have longer tails(more skewed). The outliers are noteworthy and possibly essential to prediction\n",
    "- \"density\" and \"pH\" histograms are approximately normal and symmetric\n",
    "- \"quality\" histogram has few data, some inadequate, on the two sides(worst quality and excellent quality), which might explain inaccurate predictions on quality through other variables. \n"
   ]
  },
  {
   "cell_type": "code",
   "execution_count": 90,
   "metadata": {},
   "outputs": [
    {
     "data": {
      "text/html": [
       "<div>\n",
       "<style scoped>\n",
       "    .dataframe tbody tr th:only-of-type {\n",
       "        vertical-align: middle;\n",
       "    }\n",
       "\n",
       "    .dataframe tbody tr th {\n",
       "        vertical-align: top;\n",
       "    }\n",
       "\n",
       "    .dataframe thead th {\n",
       "        text-align: right;\n",
       "    }\n",
       "</style>\n",
       "<table border=\"1\" class=\"dataframe\">\n",
       "  <thead>\n",
       "    <tr style=\"text-align: right;\">\n",
       "      <th></th>\n",
       "      <th>correlation with quality</th>\n",
       "    </tr>\n",
       "  </thead>\n",
       "  <tbody>\n",
       "    <tr>\n",
       "      <th>quality</th>\n",
       "      <td>1.000000</td>\n",
       "    </tr>\n",
       "    <tr>\n",
       "      <th>alcohol</th>\n",
       "      <td>0.476166</td>\n",
       "    </tr>\n",
       "    <tr>\n",
       "      <th>volatile acidity</th>\n",
       "      <td>0.390558</td>\n",
       "    </tr>\n",
       "    <tr>\n",
       "      <th>sulphates</th>\n",
       "      <td>0.251397</td>\n",
       "    </tr>\n",
       "    <tr>\n",
       "      <th>citric acid</th>\n",
       "      <td>0.226373</td>\n",
       "    </tr>\n",
       "    <tr>\n",
       "      <th>diff dioxide</th>\n",
       "      <td>0.205463</td>\n",
       "    </tr>\n",
       "    <tr>\n",
       "      <th>total sulfur dioxide</th>\n",
       "      <td>0.185100</td>\n",
       "    </tr>\n",
       "    <tr>\n",
       "      <th>density</th>\n",
       "      <td>0.174919</td>\n",
       "    </tr>\n",
       "    <tr>\n",
       "      <th>diff acidity</th>\n",
       "      <td>0.159258</td>\n",
       "    </tr>\n",
       "    <tr>\n",
       "      <th>chlorides</th>\n",
       "      <td>0.128907</td>\n",
       "    </tr>\n",
       "    <tr>\n",
       "      <th>fixed acidity</th>\n",
       "      <td>0.124052</td>\n",
       "    </tr>\n",
       "    <tr>\n",
       "      <th>pH</th>\n",
       "      <td>0.057731</td>\n",
       "    </tr>\n",
       "    <tr>\n",
       "      <th>free sulfur dioxide</th>\n",
       "      <td>0.050656</td>\n",
       "    </tr>\n",
       "    <tr>\n",
       "      <th>residual sugar</th>\n",
       "      <td>0.013732</td>\n",
       "    </tr>\n",
       "  </tbody>\n",
       "</table>\n",
       "</div>"
      ],
      "text/plain": [
       "                      correlation with quality\n",
       "quality                               1.000000\n",
       "alcohol                               0.476166\n",
       "volatile acidity                      0.390558\n",
       "sulphates                             0.251397\n",
       "citric acid                           0.226373\n",
       "diff dioxide                          0.205463\n",
       "total sulfur dioxide                  0.185100\n",
       "density                               0.174919\n",
       "diff acidity                          0.159258\n",
       "chlorides                             0.128907\n",
       "fixed acidity                         0.124052\n",
       "pH                                    0.057731\n",
       "free sulfur dioxide                   0.050656\n",
       "residual sugar                        0.013732"
      ]
     },
     "execution_count": 90,
     "metadata": {},
     "output_type": "execute_result"
    },
    {
     "data": {
      "image/png": "[encoded data removed]",
      "text/plain": [
       "<Figure size 432x288 with 2 Axes>"
      ]
     },
     "metadata": {},
     "output_type": "display_data"
    }
   ],
   "source": [
    "sns.heatmap(wine.corr())\n",
    "quality_corr = pd.DataFrame(wine.corr()[\"quality\"].abs().sort_values(ascending=False))\n",
    "quality_corr.columns=pd.Series(\"correlation with quality\")\n",
    "quality_corr"
   ]
  },
  {
   "cell_type": "markdown",
   "metadata": {},
   "source": [
    "Above is the correlation heat map between variables, with lighter orange and darker purple colors signifying stronger correlations. The goal is to predict wine quality using other variables, so we'll be primarily comparing wine quality with other variables with respect to the strength of correlation. Wine quality is then stronger correlated with volatile acidity and alcohol. Below are other interesting findings:\n",
    "- fixed acidity is stronger correlated with volatile acidity, pH, and diff_acidity(since it's featured engineered using this variable). Additionally, volatile acidity is correlated with citric acid. \n",
    "- free sulfur dioxide is correlated with total sulfur dioxide. \n",
    "- density is stronger correlated with diff acidity, alcohol, pH, and fixed acidity, possibly due to the effects of alcohol and acids on its molecular structure\n",
    "- pH is stronger correlated with acidity, which is reasonable because (stronger acidity indicates lower pH)\n",
    "- Residual sugar and chlorides don't really correlate with other variables"
   ]
  },
  {
   "cell_type": "code",
   "execution_count": 112,
   "metadata": {},
   "outputs": [
    {
     "data": {
      "text/html": [
       "<div>\n",
       "<style scoped>\n",
       "    .dataframe tbody tr th:only-of-type {\n",
       "        vertical-align: middle;\n",
       "    }\n",
       "\n",
       "    .dataframe tbody tr th {\n",
       "        vertical-align: top;\n",
       "    }\n",
       "\n",
       "    .dataframe thead th {\n",
       "        text-align: right;\n",
       "    }\n",
       "</style>\n",
       "<table border=\"1\" class=\"dataframe\">\n",
       "  <thead>\n",
       "    <tr style=\"text-align: right;\">\n",
       "      <th></th>\n",
       "      <th>Variables</th>\n",
       "      <th>Score</th>\n",
       "    </tr>\n",
       "  </thead>\n",
       "  <tbody>\n",
       "    <tr>\n",
       "      <th>12</th>\n",
       "      <td>diff dioxide</td>\n",
       "      <td>3226.439938</td>\n",
       "    </tr>\n",
       "    <tr>\n",
       "      <th>6</th>\n",
       "      <td>total sulfur dioxide</td>\n",
       "      <td>2755.557984</td>\n",
       "    </tr>\n",
       "    <tr>\n",
       "      <th>5</th>\n",
       "      <td>free sulfur dioxide</td>\n",
       "      <td>161.936036</td>\n",
       "    </tr>\n",
       "    <tr>\n",
       "      <th>10</th>\n",
       "      <td>alcohol</td>\n",
       "      <td>46.429892</td>\n",
       "    </tr>\n",
       "    <tr>\n",
       "      <th>11</th>\n",
       "      <td>diff acidity</td>\n",
       "      <td>19.328506</td>\n",
       "    </tr>\n",
       "    <tr>\n",
       "      <th>1</th>\n",
       "      <td>volatile acidity</td>\n",
       "      <td>15.580289</td>\n",
       "    </tr>\n",
       "    <tr>\n",
       "      <th>2</th>\n",
       "      <td>citric acid</td>\n",
       "      <td>13.025665</td>\n",
       "    </tr>\n",
       "    <tr>\n",
       "      <th>0</th>\n",
       "      <td>fixed acidity</td>\n",
       "      <td>11.260652</td>\n",
       "    </tr>\n",
       "    <tr>\n",
       "      <th>9</th>\n",
       "      <td>sulphates</td>\n",
       "      <td>4.558488</td>\n",
       "    </tr>\n",
       "    <tr>\n",
       "      <th>3</th>\n",
       "      <td>residual sugar</td>\n",
       "      <td>4.123295</td>\n",
       "    </tr>\n",
       "  </tbody>\n",
       "</table>\n",
       "</div>"
      ],
      "text/plain": [
       "               Variables        Score\n",
       "12          diff dioxide  3226.439938\n",
       "6   total sulfur dioxide  2755.557984\n",
       "5    free sulfur dioxide   161.936036\n",
       "10               alcohol    46.429892\n",
       "11          diff acidity    19.328506\n",
       "1       volatile acidity    15.580289\n",
       "2            citric acid    13.025665\n",
       "0          fixed acidity    11.260652\n",
       "9              sulphates     4.558488\n",
       "3         residual sugar     4.123295"
      ]
     },
     "execution_count": 112,
     "metadata": {},
     "output_type": "execute_result"
    }
   ],
   "source": [
    "selectkbest = SelectKBest(chi2, k=10)\n",
    "selectkbest.fit_transform(wine.drop(columns=\"quality\",axis=1), wine.quality)\n",
    "wine.columns.drop(\"quality\")[selectkbest.get_support()]\n",
    "\n",
    "dfscores = pd.DataFrame(selectkbest.scores_)\n",
    "dfcolumns = pd.DataFrame(wine.columns.drop(\"quality\"))\n",
    "\n",
    "featureScores = pd.concat([dfcolumns,dfscores],axis=1)\n",
    "featureScores.columns = ['Variables','Score']\n",
    "featureScores.nlargest(10,'Score')\n"
   ]
  },
  {
   "cell_type": "markdown",
   "metadata": {},
   "source": [
    "SelectkBest yields different results to factors affecting wine quality. As larger score indicates larger influence on quality, \"diff dioxide\", \"total sulfur dioxide\", \"free sulfur dioxide\", \"alcohol\", and \"diff acidity\" are selected. "
   ]
  },
  {
   "cell_type": "code",
   "execution_count": 104,
   "metadata": {},
   "outputs": [
    {
     "data": {
      "text/html": [
       "<div>\n",
       "<style scoped>\n",
       "    .dataframe tbody tr th:only-of-type {\n",
       "        vertical-align: middle;\n",
       "    }\n",
       "\n",
       "    .dataframe tbody tr th {\n",
       "        vertical-align: top;\n",
       "    }\n",
       "\n",
       "    .dataframe thead th {\n",
       "        text-align: right;\n",
       "    }\n",
       "</style>\n",
       "<table border=\"1\" class=\"dataframe\">\n",
       "  <thead>\n",
       "    <tr style=\"text-align: right;\">\n",
       "      <th></th>\n",
       "      <th>fixed acidity</th>\n",
       "      <th>volatile acidity</th>\n",
       "      <th>citric acid</th>\n",
       "      <th>residual sugar</th>\n",
       "      <th>chlorides</th>\n",
       "      <th>free sulfur dioxide</th>\n",
       "      <th>total sulfur dioxide</th>\n",
       "      <th>density</th>\n",
       "      <th>pH</th>\n",
       "      <th>sulphates</th>\n",
       "      <th>alcohol</th>\n",
       "      <th>diff acidity</th>\n",
       "      <th>diff dioxide</th>\n",
       "    </tr>\n",
       "    <tr>\n",
       "      <th>quality</th>\n",
       "      <th></th>\n",
       "      <th></th>\n",
       "      <th></th>\n",
       "      <th></th>\n",
       "      <th></th>\n",
       "      <th></th>\n",
       "      <th></th>\n",
       "      <th></th>\n",
       "      <th></th>\n",
       "      <th></th>\n",
       "      <th></th>\n",
       "      <th></th>\n",
       "      <th></th>\n",
       "    </tr>\n",
       "  </thead>\n",
       "  <tbody>\n",
       "    <tr>\n",
       "      <th>3</th>\n",
       "      <td>8.360000</td>\n",
       "      <td>0.884500</td>\n",
       "      <td>0.171000</td>\n",
       "      <td>2.635000</td>\n",
       "      <td>0.122500</td>\n",
       "      <td>11.000000</td>\n",
       "      <td>24.900000</td>\n",
       "      <td>0.997464</td>\n",
       "      <td>3.398000</td>\n",
       "      <td>0.570000</td>\n",
       "      <td>9.955000</td>\n",
       "      <td>7.475500</td>\n",
       "      <td>13.900000</td>\n",
       "    </tr>\n",
       "    <tr>\n",
       "      <th>4</th>\n",
       "      <td>7.779245</td>\n",
       "      <td>0.693962</td>\n",
       "      <td>0.174151</td>\n",
       "      <td>2.694340</td>\n",
       "      <td>0.090679</td>\n",
       "      <td>12.264151</td>\n",
       "      <td>36.245283</td>\n",
       "      <td>0.996542</td>\n",
       "      <td>3.381509</td>\n",
       "      <td>0.596415</td>\n",
       "      <td>10.265094</td>\n",
       "      <td>7.085283</td>\n",
       "      <td>23.981132</td>\n",
       "    </tr>\n",
       "    <tr>\n",
       "      <th>5</th>\n",
       "      <td>8.167254</td>\n",
       "      <td>0.577041</td>\n",
       "      <td>0.243686</td>\n",
       "      <td>2.528855</td>\n",
       "      <td>0.092736</td>\n",
       "      <td>16.983847</td>\n",
       "      <td>56.513950</td>\n",
       "      <td>0.997104</td>\n",
       "      <td>3.304949</td>\n",
       "      <td>0.620969</td>\n",
       "      <td>9.899706</td>\n",
       "      <td>7.590213</td>\n",
       "      <td>39.530103</td>\n",
       "    </tr>\n",
       "    <tr>\n",
       "      <th>6</th>\n",
       "      <td>8.347179</td>\n",
       "      <td>0.497484</td>\n",
       "      <td>0.273824</td>\n",
       "      <td>2.477194</td>\n",
       "      <td>0.084956</td>\n",
       "      <td>15.711599</td>\n",
       "      <td>40.869906</td>\n",
       "      <td>0.996615</td>\n",
       "      <td>3.318072</td>\n",
       "      <td>0.675329</td>\n",
       "      <td>10.629519</td>\n",
       "      <td>7.849694</td>\n",
       "      <td>25.158307</td>\n",
       "    </tr>\n",
       "    <tr>\n",
       "      <th>7</th>\n",
       "      <td>8.872362</td>\n",
       "      <td>0.403920</td>\n",
       "      <td>0.375176</td>\n",
       "      <td>2.720603</td>\n",
       "      <td>0.076588</td>\n",
       "      <td>14.045226</td>\n",
       "      <td>35.020101</td>\n",
       "      <td>0.996104</td>\n",
       "      <td>3.290754</td>\n",
       "      <td>0.741256</td>\n",
       "      <td>11.465913</td>\n",
       "      <td>8.468442</td>\n",
       "      <td>20.974874</td>\n",
       "    </tr>\n",
       "    <tr>\n",
       "      <th>8</th>\n",
       "      <td>8.566667</td>\n",
       "      <td>0.423333</td>\n",
       "      <td>0.391111</td>\n",
       "      <td>2.577778</td>\n",
       "      <td>0.068444</td>\n",
       "      <td>13.277778</td>\n",
       "      <td>33.444444</td>\n",
       "      <td>0.995212</td>\n",
       "      <td>3.267222</td>\n",
       "      <td>0.767778</td>\n",
       "      <td>12.094444</td>\n",
       "      <td>8.143333</td>\n",
       "      <td>20.166667</td>\n",
       "    </tr>\n",
       "  </tbody>\n",
       "</table>\n",
       "</div>"
      ],
      "text/plain": [
       "         fixed acidity  volatile acidity  citric acid  residual sugar  \\\n",
       "quality                                                                 \n",
       "3             8.360000          0.884500     0.171000        2.635000   \n",
       "4             7.779245          0.693962     0.174151        2.694340   \n",
       "5             8.167254          0.577041     0.243686        2.528855   \n",
       "6             8.347179          0.497484     0.273824        2.477194   \n",
       "7             8.872362          0.403920     0.375176        2.720603   \n",
       "8             8.566667          0.423333     0.391111        2.577778   \n",
       "\n",
       "         chlorides  free sulfur dioxide  total sulfur dioxide   density  \\\n",
       "quality                                                                   \n",
       "3         0.122500            11.000000             24.900000  0.997464   \n",
       "4         0.090679            12.264151             36.245283  0.996542   \n",
       "5         0.092736            16.983847             56.513950  0.997104   \n",
       "6         0.084956            15.711599             40.869906  0.996615   \n",
       "7         0.076588            14.045226             35.020101  0.996104   \n",
       "8         0.068444            13.277778             33.444444  0.995212   \n",
       "\n",
       "               pH  sulphates    alcohol  diff acidity  diff dioxide  \n",
       "quality                                                              \n",
       "3        3.398000   0.570000   9.955000      7.475500     13.900000  \n",
       "4        3.381509   0.596415  10.265094      7.085283     23.981132  \n",
       "5        3.304949   0.620969   9.899706      7.590213     39.530103  \n",
       "6        3.318072   0.675329  10.629519      7.849694     25.158307  \n",
       "7        3.290754   0.741256  11.465913      8.468442     20.974874  \n",
       "8        3.267222   0.767778  12.094444      8.143333     20.166667  "
      ]
     },
     "execution_count": 104,
     "metadata": {},
     "output_type": "execute_result"
    }
   ],
   "source": [
    "wine.groupby(\"quality\").mean()\n"
   ]
  },
  {
   "cell_type": "markdown",
   "metadata": {},
   "source": [
    "Above is the value of variables grouped by quality. Some traits that might be contributive toward quality prediction:\n",
    "- Volatile acidity,chlorides,and pH seems to decrease as quality increases\n",
    "- Citric acid, sulphates, and alcohol increases as quality increases\n",
    "- Amount of sulfur dioxide doesn't correlate well with the increase of quality(peaks at quality = 5)\n",
    "- Diff acidity and diff dioxide doesn't correlate well with quality(Deviations occur at upper and lower qualities for diff dioxide)\n",
    "- Density is uniform regardless of quality. "
   ]
  },
  {
   "cell_type": "code",
   "execution_count": 163,
   "metadata": {},
   "outputs": [
    {
     "data": {
      "text/html": [
       "<div>\n",
       "<style scoped>\n",
       "    .dataframe tbody tr th:only-of-type {\n",
       "        vertical-align: middle;\n",
       "    }\n",
       "\n",
       "    .dataframe tbody tr th {\n",
       "        vertical-align: top;\n",
       "    }\n",
       "\n",
       "    .dataframe thead th {\n",
       "        text-align: right;\n",
       "    }\n",
       "</style>\n",
       "<table border=\"1\" class=\"dataframe\">\n",
       "  <thead>\n",
       "    <tr style=\"text-align: right;\">\n",
       "      <th></th>\n",
       "      <th>count</th>\n",
       "      <th>mean</th>\n",
       "      <th>std</th>\n",
       "      <th>min</th>\n",
       "      <th>25%</th>\n",
       "      <th>50%</th>\n",
       "      <th>75%</th>\n",
       "      <th>max</th>\n",
       "    </tr>\n",
       "    <tr>\n",
       "      <th>quality</th>\n",
       "      <th></th>\n",
       "      <th></th>\n",
       "      <th></th>\n",
       "      <th></th>\n",
       "      <th></th>\n",
       "      <th></th>\n",
       "      <th></th>\n",
       "      <th></th>\n",
       "    </tr>\n",
       "  </thead>\n",
       "  <tbody>\n",
       "    <tr>\n",
       "      <th>3</th>\n",
       "      <td>10.0</td>\n",
       "      <td>9.955000</td>\n",
       "      <td>0.818009</td>\n",
       "      <td>8.4</td>\n",
       "      <td>9.725</td>\n",
       "      <td>9.925</td>\n",
       "      <td>10.575</td>\n",
       "      <td>11.0</td>\n",
       "    </tr>\n",
       "    <tr>\n",
       "      <th>4</th>\n",
       "      <td>53.0</td>\n",
       "      <td>10.265094</td>\n",
       "      <td>0.934776</td>\n",
       "      <td>9.0</td>\n",
       "      <td>9.600</td>\n",
       "      <td>10.000</td>\n",
       "      <td>11.000</td>\n",
       "      <td>13.1</td>\n",
       "    </tr>\n",
       "    <tr>\n",
       "      <th>5</th>\n",
       "      <td>681.0</td>\n",
       "      <td>9.899706</td>\n",
       "      <td>0.736521</td>\n",
       "      <td>8.5</td>\n",
       "      <td>9.400</td>\n",
       "      <td>9.700</td>\n",
       "      <td>10.200</td>\n",
       "      <td>14.9</td>\n",
       "    </tr>\n",
       "    <tr>\n",
       "      <th>6</th>\n",
       "      <td>638.0</td>\n",
       "      <td>10.629519</td>\n",
       "      <td>1.049639</td>\n",
       "      <td>8.4</td>\n",
       "      <td>9.800</td>\n",
       "      <td>10.500</td>\n",
       "      <td>11.300</td>\n",
       "      <td>14.0</td>\n",
       "    </tr>\n",
       "    <tr>\n",
       "      <th>7</th>\n",
       "      <td>199.0</td>\n",
       "      <td>11.465913</td>\n",
       "      <td>0.961933</td>\n",
       "      <td>9.2</td>\n",
       "      <td>10.800</td>\n",
       "      <td>11.500</td>\n",
       "      <td>12.100</td>\n",
       "      <td>14.0</td>\n",
       "    </tr>\n",
       "    <tr>\n",
       "      <th>8</th>\n",
       "      <td>18.0</td>\n",
       "      <td>12.094444</td>\n",
       "      <td>1.224011</td>\n",
       "      <td>9.8</td>\n",
       "      <td>11.325</td>\n",
       "      <td>12.150</td>\n",
       "      <td>12.875</td>\n",
       "      <td>14.0</td>\n",
       "    </tr>\n",
       "  </tbody>\n",
       "</table>\n",
       "</div>"
      ],
      "text/plain": [
       "         count       mean       std  min     25%     50%     75%   max\n",
       "quality                                                               \n",
       "3         10.0   9.955000  0.818009  8.4   9.725   9.925  10.575  11.0\n",
       "4         53.0  10.265094  0.934776  9.0   9.600  10.000  11.000  13.1\n",
       "5        681.0   9.899706  0.736521  8.5   9.400   9.700  10.200  14.9\n",
       "6        638.0  10.629519  1.049639  8.4   9.800  10.500  11.300  14.0\n",
       "7        199.0  11.465913  0.961933  9.2  10.800  11.500  12.100  14.0\n",
       "8         18.0  12.094444  1.224011  9.8  11.325  12.150  12.875  14.0"
      ]
     },
     "execution_count": 163,
     "metadata": {},
     "output_type": "execute_result"
    },
    {
     "data": {
      "image/png": "[encoded data removed]",
      "text/plain": [
       "<Figure size 432x288 with 1 Axes>"
      ]
     },
     "metadata": {},
     "output_type": "display_data"
    }
   ],
   "source": [
    "#fixed acidity\n",
    "col_name=\"alcohol\"\n",
    "wine_df.groupby(\"quality\")[\"alcohol\"].hist()\n",
    "wine_df.groupby(\"quality\")[\"alcohol\"].describe()\n"
   ]
  },
  {
   "cell_type": "markdown",
   "metadata": {},
   "source": [
    "If we graph a histogram of alcohol amount grouped by quality, we can see a right shift in distribution as quality increases, which validates the above observation \"alcohol quantity increases as wine quality increases"
   ]
  },
  {
   "cell_type": "code",
   "execution_count": null,
   "metadata": {},
   "outputs": [],
   "source": []
  },
  {
   "cell_type": "code",
   "execution_count": 214,
   "metadata": {},
   "outputs": [
    {
     "data": {
      "text/plain": [
       "<AxesSubplot:xlabel='quality', ylabel='pH'>"
      ]
     },
     "execution_count": 214,
     "metadata": {},
     "output_type": "execute_result"
    },
    {
     "data": {
      "image/png": "[encoded data removed]",
      "text/plain": [
       "<Figure size 432x288 with 1 Axes>"
      ]
     },
     "metadata": {},
     "output_type": "display_data"
    }
   ],
   "source": [
    "sns.boxplot(wine.quality, wine.pH)\n"
   ]
  },
  {
   "cell_type": "code",
   "execution_count": 215,
   "metadata": {},
   "outputs": [
    {
     "data": {
      "text/plain": [
       "<AxesSubplot:xlabel='quality', ylabel='alcohol'>"
      ]
     },
     "execution_count": 215,
     "metadata": {},
     "output_type": "execute_result"
    },
    {
     "data": {
      "image/png": "[encoded data removed]",
      "text/plain": [
       "<Figure size 432x288 with 1 Axes>"
      ]
     },
     "metadata": {},
     "output_type": "display_data"
    }
   ],
   "source": [
    "sns.boxplot(wine.quality, wine.alcohol)"
   ]
  },
  {
   "cell_type": "code",
   "execution_count": 209,
   "metadata": {},
   "outputs": [
    {
     "data": {
      "text/plain": [
       "0.4153830614073616"
      ]
     },
     "execution_count": 209,
     "metadata": {},
     "output_type": "execute_result"
    }
   ],
   "source": [
    "#Observed tvd for volatile acidity(abs distance of variables from the mean)\n",
    "0.5*np.sum(abs(wine.groupby(\"quality\")[\"volatile acidity\"].mean()-wine[\"volatile acidity\"].mean()))"
   ]
  },
  {
   "cell_type": "code",
   "execution_count": 124,
   "metadata": {},
   "outputs": [
    {
     "name": "stderr",
     "output_type": "stream",
     "text": [
      "<ipython-input-124-e15d254e1e79>:7: SettingWithCopyWarning: \n",
      "A value is trying to be set on a copy of a slice from a DataFrame\n",
      "\n",
      "See the caveats in the documentation: https://pandas.pydata.org/pandas-docs/stable/user_guide/indexing.html#returning-a-view-versus-a-copy\n",
      "  np.random.shuffle(temp[col_name])\n"
     ]
    },
    {
     "data": {
      "text/plain": [
       "[('fixed acidity', 0.154),\n",
       " ('volatile acidity', 0.0),\n",
       " ('citric acid', 0.0),\n",
       " ('residual sugar', 0.856),\n",
       " ('chlorides', 0.008),\n",
       " ('free sulfur dioxide', 0.004),\n",
       " ('total sulfur dioxide', 0.0),\n",
       " ('density', 0.0),\n",
       " ('pH', 0.006),\n",
       " ('sulphates', 0.0),\n",
       " ('alcohol', 0.0),\n",
       " ('diff acidity', 0.02),\n",
       " ('diff dioxide', 0.0)]"
      ]
     },
     "execution_count": 124,
     "metadata": {},
     "output_type": "execute_result"
    }
   ],
   "source": [
    "#Do permutation tests to see the association between features and quality(check if the difference is caused by coincidence)\n",
    "def permutation_tests(col_name):\n",
    "    temp=wine.copy()\n",
    "    tvd_list=[]\n",
    "    obs=0.5*np.sum(abs(wine.groupby(\"quality\")[col_name].mean()-wine[col_name].mean()))\n",
    "    for _ in range(500):\n",
    "        np.random.shuffle(temp[col_name])\n",
    "        tvd=0.5*np.sum(abs(temp.groupby(\"quality\")[col_name].mean()-temp[col_name].mean()))\n",
    "        tvd_list.append(tvd)\n",
    "    #print(tvd_list)\n",
    "    #print(obs)\n",
    "    return (np.array(tvd_list)>obs).mean()\n",
    "\n",
    "col_probs=[]\n",
    "for col_name in wine.columns[wine.columns!=\"quality\"]:\n",
    "    prob=permutation_tests(col_name)\n",
    "    col_probs.append((col_name, prob))\n",
    "col_probs\n"
   ]
  },
  {
   "cell_type": "markdown",
   "metadata": {},
   "source": [
    "- Permutation test is done on each column with respect to quality to evaluate if the data/phenomenon of each variable can be explained by coincidence or is it associated with wine quality. Targeted column values is shuffled every trial. Data is then grouped by quality, and TVD(total variation distance) is computed. The trial TVD's are then compared with the observed TVD, which generates p-value and decides if null hypothesis(data is generated and explained by coincidence) is rejected. \n",
    "- As seen in the above data, every column except fixed acidity,diff acidity, and residual sugar is rejected on the level of 0.01. This doesn't ensure that other variables are accurate predictors of wine quality. Rather, it suggests that fixed acidity and residual sugar doesn't have large impact on wine quality.  \n",
    "- Permutation tests is only a part of statistical analysis. It's not an effective indicator of evaluating dependency on wine quality. Other statistical methods will be used during machine learning predictions. \n"
   ]
  },
  {
   "cell_type": "code",
   "execution_count": null,
   "metadata": {},
   "outputs": [],
   "source": [
    "def convert_level(x):\n",
    "    if(x in [3,4]):\n",
    "        return 1\n",
    "    elif(x in [5,6]):\n",
    "        return 2\n",
    "    return 3\n",
    "#create another dataframe that converts wine quality to levels ([3,4] = 1, [5,6]=2, [7,8]=3)\n",
    "wine_df=wine.copy()\n",
    "wine_df[\"level\"]=wine_df['quality'].apply(convert_level)"
   ]
  },
  {
   "cell_type": "markdown",
   "metadata": {},
   "source": [
    "For classification purposes, we'll be categorizing quality into 3 categories, converting wine quality to levels ([3,4] = 1, [5,6]=2, [7,8]=3). We'll be performing Multi-class classification with different modellings. "
   ]
  },
  {
   "cell_type": "markdown",
   "metadata": {},
   "source": [
    "### RandomForestClassifier"
   ]
  },
  {
   "cell_type": "code",
   "execution_count": 25,
   "metadata": {},
   "outputs": [
    {
     "name": "stdout",
     "output_type": "stream",
     "text": [
      "[0.6958333333333333, 0.690625, 0.6875, 0.70625, 0.6799242424242424, 0.6857142857142857]\n"
     ]
    },
    {
     "data": {
      "text/plain": [
       "<module 'matplotlib.pyplot' from '/opt/anaconda3/lib/python3.8/site-packages/matplotlib/pyplot.py'>"
      ]
     },
     "execution_count": 25,
     "metadata": {},
     "output_type": "execute_result"
    },
    {
     "data": {
      "image/png": "[encoded data removed]",
      "text/plain": [
       "<Figure size 432x288 with 1 Axes>"
      ]
     },
     "metadata": {
      "needs_background": "light"
     },
     "output_type": "display_data"
    }
   ],
   "source": [
    "ts_scores=[]\n",
    "tr_scores=[]\n",
    "sizes=[0.15,0.2, 0.25, 0.3, 0.33,0.35]\n",
    "for n in sizes:\n",
    "    X_tr, X_ts, y_tr, y_ts = train_test_split(wine.drop(columns=[\"quality\"]), wine[\"quality\"] , test_size=n)\n",
    "\n",
    "    rc=RandomForestClassifier()\n",
    "    rc.fit(X_tr, y_tr)\n",
    "    tr_scores.append(rc.score(X_tr, y_tr))\n",
    "    ts_scores.append(rc.score(X_ts, y_ts))\n",
    "\n",
    "print(ts_scores)\n",
    "plt.title(\"Effect of test_size\")\n",
    "plt.xlabel(\"test_size\")\n",
    "plt.ylabel(\"score\")\n",
    "plt.plot(sizes, ts_scores,'r')\n",
    "plt.plot(sizes, tr_scores,'g')\n",
    "plt"
   ]
  },
  {
   "cell_type": "code",
   "execution_count": 130,
   "metadata": {},
   "outputs": [
    {
     "name": "stdout",
     "output_type": "stream",
     "text": [
      "Index(['fixed acidity', 'volatile acidity', 'citric acid', 'residual sugar',\n",
      "       'free sulfur dioxide', 'total sulfur dioxide', 'sulphates', 'alcohol',\n",
      "       'quality', 'diff acidity'],\n",
      "      dtype='object')\n",
      "0.709375\n",
      "[0.525, 0.525, 0.625, 0.69375, 0.640625, 0.671875, 0.703125, 0.684375, 0.709375]\n"
     ]
    },
    {
     "data": {
      "text/plain": [
       "<module 'matplotlib.pyplot' from '/opt/anaconda3/lib/python3.8/site-packages/matplotlib/pyplot.py'>"
      ]
     },
     "execution_count": 130,
     "metadata": {},
     "output_type": "execute_result"
    },
    {
     "data": {
      "image/png": "[encoded data removed]",
      "text/plain": [
       "<Figure size 432x288 with 1 Axes>"
      ]
     },
     "metadata": {},
     "output_type": "display_data"
    }
   ],
   "source": [
    "ts_scores = []\n",
    "tr_scores = []\n",
    "features = []\n",
    "#iterate through k=2 to k=10\n",
    "for i in np.arange(2,11):\n",
    "    selectkbest = SelectKBest(chi2, k=i)\n",
    "    #get k significant features and select those columns\n",
    "    X_new = selectkbest.fit_transform(wine.drop(columns=\"quality\",axis=1), wine.quality)\n",
    "    features.append(selectkbest.get_support())\n",
    "    X_tr, X_ts, y_tr, y_ts = train_test_split(X_new, wine[\"quality\"] , test_size=0.2)\n",
    "    rc=RandomForestClassifier()\n",
    "    rc.fit(X_tr, y_tr)\n",
    "    #append the training and test scores with the new data X_new\n",
    "    tr_scores.append(rc.score(X_tr, y_tr))\n",
    "    ts_scores.append(rc.score(X_ts, y_ts))\n",
    "\n",
    "#select best k value that gives best test score\n",
    "maxscore = np.argmax(ts_scores)\n",
    "index = np.where(features[maxscore])[0]\n",
    "print(wine.columns.take(index))\n",
    "print(ts_scores[maxscore])\n",
    "print(ts_scores)\n",
    "\n",
    "plt.title(\"Effect of k features\")\n",
    "plt.xlabel(\"number of features\")\n",
    "plt.ylabel(\"score\")\n",
    "plt.plot(np.arange(2,11), ts_scores,'r')\n",
    "plt.plot(np.arange(2,11), tr_scores,'g')\n",
    "plt\n",
    "\n"
   ]
  },
  {
   "cell_type": "code",
   "execution_count": null,
   "metadata": {},
   "outputs": [],
   "source": []
  },
  {
   "cell_type": "code",
   "execution_count": 31,
   "metadata": {},
   "outputs": [
    {
     "data": {
      "text/plain": [
       "<module 'matplotlib.pyplot' from '/opt/anaconda3/lib/python3.8/site-packages/matplotlib/pyplot.py'>"
      ]
     },
     "execution_count": 31,
     "metadata": {},
     "output_type": "execute_result"
    },
    {
     "data": {
      "image/png": "[encoded data removed]",
      "text/plain": [
       "<Figure size 432x288 with 1 Axes>"
      ]
     },
     "metadata": {
      "needs_background": "light"
     },
     "output_type": "display_data"
    }
   ],
   "source": [
    "\n",
    "ts_scores=[]\n",
    "tr_scores=[]\n",
    "sizes=[0.15,0.2, 0.25, 0.3, 0.33,0.35]\n",
    "for n in sizes:\n",
    "    X_tr, X_ts, y_tr, y_ts = train_test_split(wine.drop(columns=\"quality\"), wine[\"quality\"] , test_size=n)\n",
    "\n",
    "\n",
    "    svc=RandomForestClassifier()\n",
    "    svc.fit(X_tr, y_tr)\n",
    "    tr_scores.append(svc.score(X_tr, y_tr))\n",
    "    ts_scores.append(svc.score(X_ts, y_ts))\n",
    "    \n",
    "plt.title(\"Effect of test_size\")\n",
    "plt.xlabel(\"test_size\")\n",
    "plt.ylabel(\"score\")\n",
    "plt.plot(sizes, ts_scores,'r')\n",
    "plt.plot(sizes, tr_scores,'g')\n",
    "plt"
   ]
  },
  {
   "cell_type": "code",
   "execution_count": 248,
   "metadata": {
    "scrolled": true
   },
   "outputs": [],
   "source": [
    "#Pipeline\n",
    "def pipeline(n):\n",
    "    preproc = ColumnTransformer(\n",
    "        transformers=[\n",
    "            ('regular', FunctionTransformer(lambda x: x), wine.drop(columns=[\"quality\"]).columns),\n",
    "            ('volatile_binarizer', Binarizer(threshold=0.93), [\"volatile acidity\"]),\n",
    "            ('alcohol_binarizer', Binarizer(threshold=11), [\"alcohol\"]),\n",
    "            ('chlorides_binarizer', Binarizer(threshold=0.35), ['chlorides']),\n",
    "            #('fixed_binarizer', Binarizer(threshold=10), [\"fixed acidity\"]),\n",
    "            ('pH_binarizer', Binarizer(threshold=3.8), [\"pH\"]),\n",
    "            ('pH_kbins', KBinsDiscretizer(n_bins=3), [\"pH\"]),\n",
    "            #('volatile_kbins',  KBinsDiscretizer(n_bins=2), [\"volatile acidity\"]),\n",
    "            #('fixed_kbins',  KBinsDiscretizer(n_bins=8), [\"fixed acidity\"]),\n",
    "            #('alcohol_kbins', KBinsDiscretizer(n_bins=8), [\"alcohol\"]),\n",
    "        ])\n",
    "    pl = Pipeline(steps=[('preprocessor', preproc),('classify', RandomForestClassifier(n_estimators=500,max_depth=n))])\n",
    "    return pl\n",
    "\n"
   ]
  },
  {
   "cell_type": "markdown",
   "metadata": {},
   "source": [
    "## GridSearchCV & RandomSearchCV"
   ]
  },
  {
   "cell_type": "code",
   "execution_count": 33,
   "metadata": {},
   "outputs": [
    {
     "name": "stderr",
     "output_type": "stream",
     "text": [
      "/opt/anaconda3/lib/python3.8/site-packages/sklearn/model_selection/_split.py:670: UserWarning: The least populated class in y has only 7 members, which is less than n_splits=10.\n",
      "  warnings.warn((\"The least populated class in y has only %d\"\n"
     ]
    },
    {
     "data": {
      "text/plain": [
       "0.685"
      ]
     },
     "execution_count": 33,
     "metadata": {},
     "output_type": "execute_result"
    }
   ],
   "source": [
    "#GridSearchCV\n",
    "parameters = {\n",
    "    #'preprocessor__volatile_binarizer__threshold':np.arange(0.75, 1.2, 0.02),\n",
    "    #'preprocessor__alcohol_binarizer__threshold':np.arange(10, 13, 0.2),\n",
    "    #'preprocessor__chlorides_binarizer__threshold':np.arange(0.25, 0.61, 0.05),\n",
    "    'preprocessor__pH_binarizer__threshold':np.arange(3, 4, 0.05),\n",
    "    \"preprocessor__pH_kbins__n_bins\":np.arange(2, 9,1),\n",
    "    #\"preprocessor__volatile_kbins__n_bins\":np.arange(2, 9,1),\n",
    "    #\"preprocessor__fixed_kbins__n_bins\":np.arange(5, 9,1),\n",
    "    #\"preprocessor__alcohol_kbins__n_bins\":np.arange(2, 9,1),\n",
    "      \n",
    "}\n",
    "'''classify__max_depth': [None,2,3,4,5,7,10,13,15], \n",
    "'classify__min_samples_split':[None,2,3,5,7,10,15],\n",
    "'classify__min_samples_leaf':[None,2,3,5,7,10,15,20]'''\n",
    "clf=GridSearchCV(pl, parameters, cv = 10)\n",
    "clf.fit(X_tr, y_tr)\n",
    "clf.best_estimator_.score(X_ts, y_ts)\n",
    "\n"
   ]
  },
  {
   "cell_type": "code",
   "execution_count": 232,
   "metadata": {},
   "outputs": [
    {
     "name": "stdout",
     "output_type": "stream",
     "text": [
      "0.8700000000000001\n"
     ]
    }
   ],
   "source": [
    "sc=[]\n",
    "for i in range(20):\n",
    "    X_tr, X_ts, y_tr, y_ts = train_test_split(wine_df.drop(columns=[\"quality\",\"level\"]), wine_df.level, test_size=0.25)\n",
    "    #X_tr, X_ts, y_tr, y_ts = train_test_split(wine.drop(columns=[\"quality\"]), wine.quality, test_size=0.25)\n",
    "    clf.best_estimator_.fit(X_tr, y_tr)\n",
    "    sc.append(clf.best_estimator_.score(X_ts, y_ts))\n",
    "print(sum(sc)/len(sc))"
   ]
  },
  {
   "cell_type": "code",
   "execution_count": 35,
   "metadata": {
    "scrolled": true
   },
   "outputs": [
    {
     "data": {
      "text/plain": [
       "Pipeline(steps=[('preprocessor',\n",
       "                 ColumnTransformer(transformers=[('regular',\n",
       "                                                  FunctionTransformer(func=<function pipeline.<locals>.<lambda> at 0x7fabcc931ee0>),\n",
       "                                                  Index(['fixed acidity', 'volatile acidity', 'citric acid', 'residual sugar',\n",
       "       'chlorides', 'free sulfur dioxide', 'total sulfur dioxide', 'density',\n",
       "       'pH', 'sulphates', 'alcohol', 'diff acidity', 'diff dioxide'],\n",
       "      dtype='object')),\n",
       "                                                 ('volatile_binarizer',\n",
       "                                                  Binarizer(threshold=0.93),\n",
       "                                                  ['volatile acidity']),\n",
       "                                                 ('chlorides_binarizer',\n",
       "                                                  Binarizer(threshold=0.35),\n",
       "                                                  ['chlorides']),\n",
       "                                                 ('pH_binarizer',\n",
       "                                                  Binarizer(threshold=3.899999999999997),\n",
       "                                                  ['pH']),\n",
       "                                                 ('pH_kbins',\n",
       "                                                  KBinsDiscretizer(n_bins=4),\n",
       "                                                  ['pH'])])),\n",
       "                ('classify',\n",
       "                 RandomForestClassifier(max_depth=24, n_estimators=500))])"
      ]
     },
     "execution_count": 35,
     "metadata": {},
     "output_type": "execute_result"
    }
   ],
   "source": [
    "clf.best_estimator_\n",
    "\n",
    "#RandomForestClassifier?"
   ]
  },
  {
   "cell_type": "code",
   "execution_count": 278,
   "metadata": {},
   "outputs": [
    {
     "data": {
      "text/plain": [
       "<AxesSubplot:>"
      ]
     },
     "execution_count": 278,
     "metadata": {},
     "output_type": "execute_result"
    },
    {
     "data": {
      "image/png": "[encoded data removed]",
      "text/plain": [
       "<Figure size 432x288 with 2 Axes>"
      ]
     },
     "metadata": {},
     "output_type": "display_data"
    }
   ],
   "source": [
    "X_tr, X_ts, y_tr, y_ts = train_test_split(wine_df.drop(columns=[\"quality\",\"level\"]), wine_df.level, test_size=0.25)\n",
    "#clf.best_estimator_.fit(X_tr, y_tr)\n",
    "matrix=confusion_matrix(clf.predict(X_ts),y_ts)\n",
    "df_cm = pd.DataFrame(matrix)\n",
    "# plt.figure(figsize=(10,7))\n",
    "sns.set(font_scale=1.4) # for label size\n",
    "sns.heatmap(df_cm, annot=True, annot_kws={\"size\": 12})"
   ]
  },
  {
   "cell_type": "markdown",
   "metadata": {},
   "source": [
    "- When evaluating the efficiency of this model, we can utilize recall as examination measure. We would certainly want people to drink labelled-level 3 wine to enjoy actual level-3 quality/taste. In this sense, recall, the proportion of predicted-level3 wine being actually level3 quality, is a more suitable measure. Recall = 49/(49+12)=0.889=80.3%. \n",
    "- For wine companies, besides guaranteeing wine quality, they would also want to ensure that all level3 quality wine are being labelled as level3, so that they can maximize their profit and prevent loss. In this sense, precision, the proportion of actual level 3 wine being labelled as level3, is a more suitable measure. Precision = 49/49=100%, a really ideal result. "
   ]
  },
  {
   "cell_type": "code",
   "execution_count": 249,
   "metadata": {},
   "outputs": [
    {
     "name": "stdout",
     "output_type": "stream",
     "text": [
      "[0.83325 0.84175 0.8505  0.86125 0.8645  0.8615  0.871   0.8695  0.868\n",
      " 0.877   0.8745  0.86975]\n",
      "[0.82210175 0.86363636 0.90383653 0.94361968 0.97197665 0.98807339\n",
      " 0.99658048 0.99899917 1.         1.         1.         1.        ]\n",
      "0.861875\n",
      "0.9574020016680568\n"
     ]
    },
    {
     "data": {
      "image/png": "[encoded data removed]",
      "text/plain": [
       "<Figure size 432x288 with 1 Axes>"
      ]
     },
     "metadata": {},
     "output_type": "display_data"
    }
   ],
   "source": [
    "#Experiment on accuracy with respect to max_depth\n",
    "test_scores=[]\n",
    "train_scores=[]\n",
    "\n",
    "var_size=np.arange(2, 25, 2)\n",
    "for n in var_size:\n",
    "    pl=pipeline(n)\n",
    "    temp_ts=[]\n",
    "    temp_tr=[]\n",
    "    for i in range(10):\n",
    "        #X_tr, X_ts, y_tr, y_ts = train_test_split(wine.drop(columns=[\"quality\"]), wine.quality, test_size=0.25)\n",
    "        X_tr, X_ts, y_tr, y_ts = train_test_split(wine_df.drop(columns=[\"quality\",\"level\"]), wine_df.level, test_size=0.25)\n",
    "        pl.fit(X_tr, y_tr)\n",
    "        temp_ts.append(pl.score(X_ts, y_ts))\n",
    "        temp_tr.append(pl.score(X_tr, y_tr))\n",
    "        \n",
    "    test_scores.append(sum(temp_ts)/len(temp_ts))\n",
    "    train_scores.append(sum(temp_tr)/len(temp_tr))\n",
    "\n",
    "plt.title(\"Effect of random states\")\n",
    "plt.xlabel(\"random states\")\n",
    "plt.ylabel(\"score\")\n",
    "plt.plot(var_size, test_scores,'r')\n",
    "plt.plot(var_size, train_scores,'g')\n",
    "plt\n",
    "\n",
    "test_scores=np.array(test_scores)\n",
    "train_scores=np.array(train_scores)\n",
    "\n",
    "print(test_scores)\n",
    "print(train_scores)\n",
    "print(test_scores.mean())\n",
    "print(train_scores.mean())\n",
    "\n"
   ]
  },
  {
   "cell_type": "markdown",
   "metadata": {},
   "source": [
    "- GridSearchCV is utilized tune parameters within the feature-engineered variables(binarizers and bin-discretizers). I decided to tune pH_binarizer threshold and number of bins for pH as well as those for volatile acidity and alcohol. For demo purposes, only kbinsDiscretizers are implemented on pH variable, as GridSearchCV requires a lot of time on complex experimentation. For the volatile acidity, chlorides, and alcohol, the values for binarizers are set arbitrarily using previous GridSearch result for each variable. \n",
    "- GridSearchCV utilizes cross-validation and picks the optimal model. The best estimator then gives a 0.87 average accuracy on the test set, which is ideal, although more adjustments can be made to increase the testing accuracy above 0.9.\n",
    "- The last plot shows how the number of max_depth affect training and testing accuracy. The training accuracy eventually reaches an asymptote, which makes the increment of random_states unneccesary. I decided to not add max_depth, random_states, min/max-sample leaf into the GridSearchCV parameters because those variables don't have large effect on the testing accuracy, and increasing the values to the variables would lead to overfit."
   ]
  },
  {
   "cell_type": "code",
   "execution_count": 247,
   "metadata": {},
   "outputs": [
    {
     "data": {
      "text/plain": [
       "0.875"
      ]
     },
     "execution_count": 247,
     "metadata": {},
     "output_type": "execute_result"
    }
   ],
   "source": [
    "'''\n",
    "#TODO: Replace GridSearchCV with RandomizedSearchCV\n",
    "#Reason: explore 1,000 different values for each hyperparameter (instead of just a few values per hyperparameter with the gridSearch).\n",
    "'''\n",
    "rand_params= {\n",
    "    'preprocessor__volatile_binarizer__threshold':np.arange(0.75, 1.2, 0.02),\n",
    "    'preprocessor__alcohol_binarizer__threshold':np.arange(10, 13, 0.2),\n",
    "    'preprocessor__chlorides_binarizer__threshold':np.arange(0.25, 0.61, 0.01),\n",
    "    'preprocessor__pH_binarizer__threshold':np.arange(3, 4, 0.05),\n",
    "    \"preprocessor__pH_kbins__n_bins\":np.arange(2, 9,1),\n",
    "    \n",
    "    \n",
    "    \n",
    "    #\"preprocessor__volatile_kbins__n_bins\":np.arange(2, 9,1),\n",
    "    #\"preprocessor__fixed_kbins__n_bins\":np.arange(5, 9,1),\n",
    "    #\"preprocessor__alcohol_kbins__n_bins\":np.arange(2, 9,1),\n",
    "    \n",
    "    \n",
    "    \n",
    "}\n",
    "clf_random=RandomizedSearchCV(pl, rand_params, cv = 5, n_iter=1000)\n",
    "clf_random.fit(X_tr, y_tr)\n",
    "clf_random.best_estimator_.score(X_ts, y_ts)"
   ]
  },
  {
   "cell_type": "code",
   "execution_count": 272,
   "metadata": {},
   "outputs": [
    {
     "data": {
      "text/plain": [
       "Pipeline(steps=[('preprocessor',\n",
       "                 ColumnTransformer(transformers=[('regular',\n",
       "                                                  FunctionTransformer(func=<function pipeline.<locals>.<lambda> at 0x7fabb5f888b0>),\n",
       "                                                  Index(['fixed acidity', 'volatile acidity', 'citric acid', 'residual sugar',\n",
       "       'chlorides', 'free sulfur dioxide', 'total sulfur dioxide', 'density',\n",
       "       'pH', 'sulphates', 'alcohol', 'diff acidity', 'diff dioxide'],\n",
       "      dtype='o...\n",
       "                                                  Binarizer(threshold=0.77),\n",
       "                                                  ['volatile acidity']),\n",
       "                                                 ('alcohol_binarizer',\n",
       "                                                  Binarizer(threshold=10.0),\n",
       "                                                  ['alcohol']),\n",
       "                                                 ('chlorides_binarizer',\n",
       "                                                  Binarizer(threshold=0.32000000000000006),\n",
       "                                                  ['chlorides']),\n",
       "                                                 ('pH_binarizer',\n",
       "                                                  Binarizer(threshold=3.599999999999998),\n",
       "                                                  ['pH']),\n",
       "                                                 ('pH_kbins',\n",
       "                                                  KBinsDiscretizer(n_bins=2),\n",
       "                                                  ['pH'])])),\n",
       "                ('classify',\n",
       "                 RandomForestClassifier(max_depth=24, n_estimators=500))])"
      ]
     },
     "execution_count": 272,
     "metadata": {},
     "output_type": "execute_result"
    }
   ],
   "source": [
    "clf_random.best_estimator_\n"
   ]
  },
  {
   "cell_type": "code",
   "execution_count": 277,
   "metadata": {},
   "outputs": [
    {
     "data": {
      "text/plain": [
       "<AxesSubplot:>"
      ]
     },
     "execution_count": 277,
     "metadata": {},
     "output_type": "execute_result"
    },
    {
     "data": {
      "image/png": "[encoded data removed]",
      "text/plain": [
       "<Figure size 432x288 with 2 Axes>"
      ]
     },
     "metadata": {},
     "output_type": "display_data"
    }
   ],
   "source": [
    "#X_tr, X_ts, y_tr, y_ts = train_test_split(wine.drop(columns=[\"quality\"]), wine.quality, test_size=0.25)\n",
    "X_tr, X_ts, y_tr, y_ts = train_test_split(wine_df.drop(columns=[\"quality\",\"level\"]), wine_df.level, test_size=0.25)\n",
    "#clf.best_estimator_.fit(X_tr, y_tr)\n",
    "matrix=confusion_matrix(clf.predict(X_ts),y_ts)\n",
    "df_cm = pd.DataFrame(matrix)\n",
    "# plt.figure(figsize=(10,7))\n",
    "sns.set(font_scale=1.4) # for label size\n",
    "sns.heatmap(df_cm, annot=True, annot_kws={\"size\": 12})\n",
    "\n"
   ]
  },
  {
   "cell_type": "markdown",
   "metadata": {},
   "source": [
    "- When drawing the confusion matrix, most data are classified correctly, especially those with level 1 and 3 (wine quality = [3,4] and [7,8]). Some data in level 2(label = 1) are misclassified incorrectly. Potential reasons might be the existence of marginal differences between some level 2 and 3 wine traits(8 of them being misclassified as level 3). It's easier for actual level 1 (label = 0) and level 3(label=2) wine to be correctly classified because of their distinct traits. Yet, some level 2 wine have shown similarities with level 3 wine. More EDA is required to eliminate those misclassified data. \n",
    "- When evaluating the efficiency of this model, we can utilize recall as examination measure. We would certainly want people to drink labelled-level 3 wine to enjoy actual level-3 quality/taste. In this sense, recall, the proportion of predicted-level3 wine being actually level3 quality, is a more suitable measure. Recall = 48/(48+6)=0.889=88.9%. \n",
    "- For wine companies, besides guaranteeing wine quality, they would also want to ensure that all level3 quality wine are being labelled as level3, so that they can maximize their profit and prevent loss. In this sense, precision, the proportion of actual level 3 wine being labelled as level3, is a more suitable measure. Precision = 48/(48+1)=98%, slightly lower than that using GridSearchCV. \n",
    "- Although the precision decreases by 2%,the recall has increased by 8.6%, which is indeed an improvement in modelling and suggesting that RandomSearchCV, in this case, has given a better model than GridSearchCV. This tradeoff is worthy because, given actual level3 wine labelled 2% incorrectly, customers are 8.6% more likely to actually enjoy actual level3 wine that they expected(on the label) - significiant in maintaining the wine brand's reputation and expectations."
   ]
  },
  {
   "cell_type": "markdown",
   "metadata": {},
   "source": [
    "## LinearSVC"
   ]
  },
  {
   "cell_type": "markdown",
   "metadata": {},
   "source": [
    "### Dataframe engineered (without pipeline)"
   ]
  },
  {
   "cell_type": "code",
   "execution_count": 291,
   "metadata": {},
   "outputs": [
    {
     "data": {
      "text/html": [
       "<div>\n",
       "<style scoped>\n",
       "    .dataframe tbody tr th:only-of-type {\n",
       "        vertical-align: middle;\n",
       "    }\n",
       "\n",
       "    .dataframe tbody tr th {\n",
       "        vertical-align: top;\n",
       "    }\n",
       "\n",
       "    .dataframe thead th {\n",
       "        text-align: right;\n",
       "    }\n",
       "</style>\n",
       "<table border=\"1\" class=\"dataframe\">\n",
       "  <thead>\n",
       "    <tr style=\"text-align: right;\">\n",
       "      <th></th>\n",
       "      <th>fixed acidity</th>\n",
       "      <th>volatile acidity</th>\n",
       "      <th>citric acid</th>\n",
       "      <th>residual sugar</th>\n",
       "      <th>chlorides</th>\n",
       "      <th>free sulfur dioxide</th>\n",
       "      <th>total sulfur dioxide</th>\n",
       "      <th>density</th>\n",
       "      <th>pH</th>\n",
       "      <th>sulphates</th>\n",
       "      <th>alcohol</th>\n",
       "      <th>diff acidity</th>\n",
       "      <th>diff dioxide</th>\n",
       "      <th>level</th>\n",
       "      <th>vol_binarize</th>\n",
       "      <th>chl_binarize</th>\n",
       "      <th>pH_binarize</th>\n",
       "      <th>fix_binarize</th>\n",
       "      <th>alc_binarize</th>\n",
       "    </tr>\n",
       "  </thead>\n",
       "  <tbody>\n",
       "    <tr>\n",
       "      <th>0</th>\n",
       "      <td>-0.528360</td>\n",
       "      <td>0.961877</td>\n",
       "      <td>-1.391472</td>\n",
       "      <td>-0.453218</td>\n",
       "      <td>-0.243707</td>\n",
       "      <td>-0.466193</td>\n",
       "      <td>-0.379133</td>\n",
       "      <td>0.558274</td>\n",
       "      <td>1.288643</td>\n",
       "      <td>-0.579207</td>\n",
       "      <td>-0.960246</td>\n",
       "      <td>-0.608336</td>\n",
       "      <td>-0.280720</td>\n",
       "      <td>-0.236503</td>\n",
       "      <td>-0.156024</td>\n",
       "      <td>-0.106701</td>\n",
       "      <td>-0.056007</td>\n",
       "      <td>-0.433549</td>\n",
       "      <td>-0.585294</td>\n",
       "    </tr>\n",
       "    <tr>\n",
       "      <th>1</th>\n",
       "      <td>-0.298547</td>\n",
       "      <td>1.967442</td>\n",
       "      <td>-1.391472</td>\n",
       "      <td>0.043416</td>\n",
       "      <td>0.223875</td>\n",
       "      <td>0.872638</td>\n",
       "      <td>0.624363</td>\n",
       "      <td>0.028261</td>\n",
       "      <td>-0.719933</td>\n",
       "      <td>0.128950</td>\n",
       "      <td>-0.584777</td>\n",
       "      <td>-0.485757</td>\n",
       "      <td>0.421739</td>\n",
       "      <td>-0.236503</td>\n",
       "      <td>-0.156024</td>\n",
       "      <td>-0.106701</td>\n",
       "      <td>-0.056007</td>\n",
       "      <td>-0.433549</td>\n",
       "      <td>-0.585294</td>\n",
       "    </tr>\n",
       "    <tr>\n",
       "      <th>2</th>\n",
       "      <td>-0.298547</td>\n",
       "      <td>1.297065</td>\n",
       "      <td>-1.186070</td>\n",
       "      <td>-0.169427</td>\n",
       "      <td>0.096353</td>\n",
       "      <td>-0.083669</td>\n",
       "      <td>0.229047</td>\n",
       "      <td>0.134264</td>\n",
       "      <td>-0.331177</td>\n",
       "      <td>-0.048089</td>\n",
       "      <td>-0.584777</td>\n",
       "      <td>-0.418895</td>\n",
       "      <td>0.310825</td>\n",
       "      <td>-0.236503</td>\n",
       "      <td>-0.156024</td>\n",
       "      <td>-0.106701</td>\n",
       "      <td>-0.056007</td>\n",
       "      <td>-0.433549</td>\n",
       "      <td>-0.585294</td>\n",
       "    </tr>\n",
       "    <tr>\n",
       "      <th>3</th>\n",
       "      <td>1.654856</td>\n",
       "      <td>-1.384443</td>\n",
       "      <td>1.484154</td>\n",
       "      <td>-0.453218</td>\n",
       "      <td>-0.264960</td>\n",
       "      <td>0.107592</td>\n",
       "      <td>0.411500</td>\n",
       "      <td>0.664277</td>\n",
       "      <td>-0.979104</td>\n",
       "      <td>-0.461180</td>\n",
       "      <td>-0.584777</td>\n",
       "      <td>1.742953</td>\n",
       "      <td>0.458711</td>\n",
       "      <td>-0.236503</td>\n",
       "      <td>-0.156024</td>\n",
       "      <td>-0.106701</td>\n",
       "      <td>-0.056007</td>\n",
       "      <td>2.306547</td>\n",
       "      <td>-0.585294</td>\n",
       "    </tr>\n",
       "    <tr>\n",
       "      <th>4</th>\n",
       "      <td>-0.528360</td>\n",
       "      <td>0.961877</td>\n",
       "      <td>-1.391472</td>\n",
       "      <td>-0.453218</td>\n",
       "      <td>-0.243707</td>\n",
       "      <td>-0.466193</td>\n",
       "      <td>-0.379133</td>\n",
       "      <td>0.558274</td>\n",
       "      <td>1.288643</td>\n",
       "      <td>-0.579207</td>\n",
       "      <td>-0.960246</td>\n",
       "      <td>-0.608336</td>\n",
       "      <td>-0.280720</td>\n",
       "      <td>-0.236503</td>\n",
       "      <td>-0.156024</td>\n",
       "      <td>-0.106701</td>\n",
       "      <td>-0.056007</td>\n",
       "      <td>-0.433549</td>\n",
       "      <td>-0.585294</td>\n",
       "    </tr>\n",
       "    <tr>\n",
       "      <th>...</th>\n",
       "      <td>...</td>\n",
       "      <td>...</td>\n",
       "      <td>...</td>\n",
       "      <td>...</td>\n",
       "      <td>...</td>\n",
       "      <td>...</td>\n",
       "      <td>...</td>\n",
       "      <td>...</td>\n",
       "      <td>...</td>\n",
       "      <td>...</td>\n",
       "      <td>...</td>\n",
       "      <td>...</td>\n",
       "      <td>...</td>\n",
       "      <td>...</td>\n",
       "      <td>...</td>\n",
       "      <td>...</td>\n",
       "      <td>...</td>\n",
       "      <td>...</td>\n",
       "      <td>...</td>\n",
       "    </tr>\n",
       "    <tr>\n",
       "      <th>1594</th>\n",
       "      <td>-1.217796</td>\n",
       "      <td>0.403229</td>\n",
       "      <td>-0.980669</td>\n",
       "      <td>-0.382271</td>\n",
       "      <td>0.053845</td>\n",
       "      <td>1.542054</td>\n",
       "      <td>-0.075043</td>\n",
       "      <td>-0.978765</td>\n",
       "      <td>0.899886</td>\n",
       "      <td>-0.461180</td>\n",
       "      <td>0.072294</td>\n",
       "      <td>-1.221231</td>\n",
       "      <td>-0.687407</td>\n",
       "      <td>-0.236503</td>\n",
       "      <td>-0.156024</td>\n",
       "      <td>-0.106701</td>\n",
       "      <td>-0.056007</td>\n",
       "      <td>-0.433549</td>\n",
       "      <td>-0.585294</td>\n",
       "    </tr>\n",
       "    <tr>\n",
       "      <th>1595</th>\n",
       "      <td>-1.390155</td>\n",
       "      <td>0.123905</td>\n",
       "      <td>-0.877968</td>\n",
       "      <td>-0.240375</td>\n",
       "      <td>-0.541259</td>\n",
       "      <td>2.211469</td>\n",
       "      <td>0.137820</td>\n",
       "      <td>-0.862162</td>\n",
       "      <td>1.353436</td>\n",
       "      <td>0.601055</td>\n",
       "      <td>0.729364</td>\n",
       "      <td>-1.360525</td>\n",
       "      <td>-0.687407</td>\n",
       "      <td>-0.236503</td>\n",
       "      <td>-0.156024</td>\n",
       "      <td>-0.106701</td>\n",
       "      <td>-0.056007</td>\n",
       "      <td>-0.433549</td>\n",
       "      <td>1.708543</td>\n",
       "    </tr>\n",
       "    <tr>\n",
       "      <th>1596</th>\n",
       "      <td>-1.160343</td>\n",
       "      <td>-0.099554</td>\n",
       "      <td>-0.723916</td>\n",
       "      <td>-0.169427</td>\n",
       "      <td>-0.243707</td>\n",
       "      <td>1.255161</td>\n",
       "      <td>-0.196679</td>\n",
       "      <td>-0.533554</td>\n",
       "      <td>0.705508</td>\n",
       "      <td>0.542042</td>\n",
       "      <td>0.541630</td>\n",
       "      <td>-1.115367</td>\n",
       "      <td>-0.724379</td>\n",
       "      <td>-0.236503</td>\n",
       "      <td>-0.156024</td>\n",
       "      <td>-0.106701</td>\n",
       "      <td>-0.056007</td>\n",
       "      <td>-0.433549</td>\n",
       "      <td>-0.585294</td>\n",
       "    </tr>\n",
       "    <tr>\n",
       "      <th>1597</th>\n",
       "      <td>-1.390155</td>\n",
       "      <td>0.654620</td>\n",
       "      <td>-0.775267</td>\n",
       "      <td>-0.382271</td>\n",
       "      <td>-0.264960</td>\n",
       "      <td>1.542054</td>\n",
       "      <td>-0.075043</td>\n",
       "      <td>-0.676657</td>\n",
       "      <td>1.677400</td>\n",
       "      <td>0.305990</td>\n",
       "      <td>-0.209308</td>\n",
       "      <td>-1.413457</td>\n",
       "      <td>-0.687407</td>\n",
       "      <td>-0.236503</td>\n",
       "      <td>-0.156024</td>\n",
       "      <td>-0.106701</td>\n",
       "      <td>-0.056007</td>\n",
       "      <td>-0.433549</td>\n",
       "      <td>-0.585294</td>\n",
       "    </tr>\n",
       "    <tr>\n",
       "      <th>1598</th>\n",
       "      <td>-1.332702</td>\n",
       "      <td>-1.216849</td>\n",
       "      <td>1.021999</td>\n",
       "      <td>0.752894</td>\n",
       "      <td>-0.434990</td>\n",
       "      <td>0.203223</td>\n",
       "      <td>-0.135861</td>\n",
       "      <td>-0.666057</td>\n",
       "      <td>0.511130</td>\n",
       "      <td>0.010924</td>\n",
       "      <td>0.541630</td>\n",
       "      <td>-1.171085</td>\n",
       "      <td>-0.243749</td>\n",
       "      <td>-0.236503</td>\n",
       "      <td>-0.156024</td>\n",
       "      <td>-0.106701</td>\n",
       "      <td>-0.056007</td>\n",
       "      <td>-0.433549</td>\n",
       "      <td>-0.585294</td>\n",
       "    </tr>\n",
       "  </tbody>\n",
       "</table>\n",
       "<p>1599 rows × 19 columns</p>\n",
       "</div>"
      ],
      "text/plain": [
       "      fixed acidity  volatile acidity  citric acid  residual sugar  chlorides  \\\n",
       "0         -0.528360          0.961877    -1.391472       -0.453218  -0.243707   \n",
       "1         -0.298547          1.967442    -1.391472        0.043416   0.223875   \n",
       "2         -0.298547          1.297065    -1.186070       -0.169427   0.096353   \n",
       "3          1.654856         -1.384443     1.484154       -0.453218  -0.264960   \n",
       "4         -0.528360          0.961877    -1.391472       -0.453218  -0.243707   \n",
       "...             ...               ...          ...             ...        ...   \n",
       "1594      -1.217796          0.403229    -0.980669       -0.382271   0.053845   \n",
       "1595      -1.390155          0.123905    -0.877968       -0.240375  -0.541259   \n",
       "1596      -1.160343         -0.099554    -0.723916       -0.169427  -0.243707   \n",
       "1597      -1.390155          0.654620    -0.775267       -0.382271  -0.264960   \n",
       "1598      -1.332702         -1.216849     1.021999        0.752894  -0.434990   \n",
       "\n",
       "      free sulfur dioxide  total sulfur dioxide   density        pH  \\\n",
       "0               -0.466193             -0.379133  0.558274  1.288643   \n",
       "1                0.872638              0.624363  0.028261 -0.719933   \n",
       "2               -0.083669              0.229047  0.134264 -0.331177   \n",
       "3                0.107592              0.411500  0.664277 -0.979104   \n",
       "4               -0.466193             -0.379133  0.558274  1.288643   \n",
       "...                   ...                   ...       ...       ...   \n",
       "1594             1.542054             -0.075043 -0.978765  0.899886   \n",
       "1595             2.211469              0.137820 -0.862162  1.353436   \n",
       "1596             1.255161             -0.196679 -0.533554  0.705508   \n",
       "1597             1.542054             -0.075043 -0.676657  1.677400   \n",
       "1598             0.203223             -0.135861 -0.666057  0.511130   \n",
       "\n",
       "      sulphates   alcohol  diff acidity  diff dioxide     level  vol_binarize  \\\n",
       "0     -0.579207 -0.960246     -0.608336     -0.280720 -0.236503     -0.156024   \n",
       "1      0.128950 -0.584777     -0.485757      0.421739 -0.236503     -0.156024   \n",
       "2     -0.048089 -0.584777     -0.418895      0.310825 -0.236503     -0.156024   \n",
       "3     -0.461180 -0.584777      1.742953      0.458711 -0.236503     -0.156024   \n",
       "4     -0.579207 -0.960246     -0.608336     -0.280720 -0.236503     -0.156024   \n",
       "...         ...       ...           ...           ...       ...           ...   \n",
       "1594  -0.461180  0.072294     -1.221231     -0.687407 -0.236503     -0.156024   \n",
       "1595   0.601055  0.729364     -1.360525     -0.687407 -0.236503     -0.156024   \n",
       "1596   0.542042  0.541630     -1.115367     -0.724379 -0.236503     -0.156024   \n",
       "1597   0.305990 -0.209308     -1.413457     -0.687407 -0.236503     -0.156024   \n",
       "1598   0.010924  0.541630     -1.171085     -0.243749 -0.236503     -0.156024   \n",
       "\n",
       "      chl_binarize  pH_binarize  fix_binarize  alc_binarize  \n",
       "0        -0.106701    -0.056007     -0.433549     -0.585294  \n",
       "1        -0.106701    -0.056007     -0.433549     -0.585294  \n",
       "2        -0.106701    -0.056007     -0.433549     -0.585294  \n",
       "3        -0.106701    -0.056007      2.306547     -0.585294  \n",
       "4        -0.106701    -0.056007     -0.433549     -0.585294  \n",
       "...            ...          ...           ...           ...  \n",
       "1594     -0.106701    -0.056007     -0.433549     -0.585294  \n",
       "1595     -0.106701    -0.056007     -0.433549      1.708543  \n",
       "1596     -0.106701    -0.056007     -0.433549     -0.585294  \n",
       "1597     -0.106701    -0.056007     -0.433549     -0.585294  \n",
       "1598     -0.106701    -0.056007     -0.433549     -0.585294  \n",
       "\n",
       "[1599 rows x 19 columns]"
      ]
     },
     "execution_count": 291,
     "metadata": {},
     "output_type": "execute_result"
    }
   ],
   "source": [
    "eng_df=wine_df.copy()\n",
    "bin_cols=[\"volatile acidity\", \"chlorides\", \"pH\", \"fixed acidity\",\"alcohol\"]\n",
    "bin_thres=[0.93,0.35, 3.8, 10, 11]\n",
    "for i in range(len(bin_cols)):\n",
    "    eng_df=pd.concat([eng_df, pd.Series(name=bin_cols[i][:3]+\"_binarize\", data=Binarizer(threshold=bin_thres[i]).fit_transform(wine_df[[bin_cols[i]]]).flatten())],axis=1)\n",
    "eng_scaled=pd.DataFrame(scaler.fit_transform(eng_df.drop(columns=\"quality\")), columns=eng_df.columns[~(eng_df.columns==\"quality\")])\n",
    "eng_scaled\n"
   ]
  },
  {
   "cell_type": "markdown",
   "metadata": {},
   "source": [
    "Due to lack of domain knowledge in chemistry, I will be using binarizers and thresholding to perform feature engineer, assuming that exceeding certain chemical values will effectively distinguish good quality and bad quality wine. Variables \"volatile acidity\", \"chlorides\", \"pH\", \"fixed acidity\",\"alcohol\" are picked, as acidity, pH, and alcohol should be good indicators of wine quality. Thresholds picked are assigned arbitrary using optimal values  through GridSearchCV. After binarized data are appended, it is normalized and adjusted to unit variance, to allow better performance in some models. "
   ]
  },
  {
   "cell_type": "code",
   "execution_count": 292,
   "metadata": {},
   "outputs": [
    {
     "data": {
      "text/plain": [
       "<module 'matplotlib.pyplot' from '/opt/anaconda3/lib/python3.8/site-packages/matplotlib/pyplot.py'>"
      ]
     },
     "execution_count": 292,
     "metadata": {},
     "output_type": "execute_result"
    },
    {
     "data": {
      "image/png": "[encoded data removed]",
      "text/plain": [
       "<Figure size 432x288 with 1 Axes>"
      ]
     },
     "metadata": {},
     "output_type": "display_data"
    }
   ],
   "source": [
    "scaler = StandardScaler()\n",
    "#df_scaled = pd.DataFrame(scaler.fit_transform(wine.drop(columns=[\"quality\", \"diff acidity\"])), columns=wine.columns[~(wine.columns==\"quality\") & ~(wine.columns==\"diff acidity\")])\n",
    "\n",
    "\n",
    "df_scaled = eng_scaled.copy()\n",
    "#df_scaled = pd.DataFrame(scaler.fit_transform(wine.drop(columns=\"quality\")), columns=wine.columns[~(wine.columns==\"quality\")])\n",
    "ts_scores=[]\n",
    "tr_scores=[]\n",
    "sizes=[0.15,0.2, 0.25, 0.3, 0.33,0.35,0.4]\n",
    "k_arr=np.arange(2,8)\n",
    "for n in k_arr:\n",
    "    \n",
    "    selectkbest = SelectKBest(f_classif, k=n)\n",
    "    X_new = selectkbest.fit_transform(df_scaled, wine_df.level)\n",
    "    X_tr, X_ts, y_tr, y_ts = train_test_split(X_new, wine_df[\"level\"] , test_size=0.2)\n",
    "    svc=svm.SVC(kernel=\"rbf\", C=3)\n",
    "    svc.fit(X_tr, y_tr)\n",
    "    tr_scores.append(svc.score(X_tr, y_tr))\n",
    "    ts_scores.append(svc.score(X_ts, y_ts))\n",
    "    \n",
    "plt.title(\"Effect of k\")\n",
    "plt.xlabel(\"k\")\n",
    "plt.ylabel(\"score\")\n",
    "plt.plot(k_arr, ts_scores,'r')\n",
    "plt.plot(k_arr, tr_scores,'g')\n",
    "plt\n",
    "#wine.quality.value_counts()\n"
   ]
  },
  {
   "cell_type": "markdown",
   "metadata": {},
   "source": [
    "The first plot focuses on feature selection using selectKBest, then training those selected data with Support Vector machine. LinearSVC isn't used because the cost doesn't converge and it is applicable when data are linearly separable. Therefore, we used radial-based kernel instead. The testing accuracy is around 0.85 with best k value. Parameter C can be tuned to acquire balance between correct classification and maximizing decision boundary(away from other data ponts). "
   ]
  },
  {
   "cell_type": "code",
   "execution_count": 315,
   "metadata": {
    "scrolled": true
   },
   "outputs": [
    {
     "name": "stdout",
     "output_type": "stream",
     "text": [
      "0.8814845704753962\n",
      "[0.8425 0.8375 0.8375 0.8625 0.8275 0.83   0.87   0.8525 0.84   0.8375]\n"
     ]
    },
    {
     "data": {
      "text/plain": [
       "'test_scores=[]\\ntrain_scores=[]\\nfor i in range(10):\\n    X_tr, X_ts, y_tr, y_ts = train_test_split(df_scaled, wine[\"quality\"] , test_size=0.25)\\n    svc=LinearSVC(max_iter=10000)\\n    svc.fit(X_tr, y_tr)\\n    train_scores.append(svc.score(X_tr, y_tr))\\n    test_scores.append(svc.score(X_ts, y_ts))\\ntrain_scores=np.array(train_scores)\\ntest_scores=np.array(test_scores)\\nprint(train_scores.mean())\\nprint(test_scores.mean())'"
      ]
     },
     "execution_count": 315,
     "metadata": {},
     "output_type": "execute_result"
    }
   ],
   "source": [
    "#df_scaled = pd.DataFrame(scaler.fit_transform(wine.drop(columns=\"quality\")), columns=wine.columns[~(wine.columns==\"quality\")])\n",
    "eng_scaled = pd.DataFrame(scaler.fit_transform(eng_df.drop(columns=[\"quality\",\"level\"])), columns=eng_df.columns[(eng_df.columns!=\"quality\") & (eng_df.columns!=\"level\")])\n",
    "\n",
    "\n",
    "\n",
    "\n",
    "\n",
    "test_scores=[]\n",
    "train_scores=[]\n",
    "for i in range(10):\n",
    "    X_tr, X_ts, y_tr, y_ts = train_test_split(eng_scaled, wine_df[\"level\"] , test_size=0.25)\n",
    "    #svc=LinearSVC()\n",
    "    #adjust C & gamma\n",
    "    svc=svm.SVC(kernel='rbf', C=3)\n",
    "    #adjust kernel=poly and degree\n",
    "    #svc=svm.SVC(kernel=\"poly\", degree=3, C=10)\n",
    "    svc.fit(X_tr, y_tr)\n",
    "    train_scores.append(svc.score(X_tr, y_tr))\n",
    "    test_scores.append(svc.score(X_ts, y_ts))\n",
    "train_scores=np.array(train_scores)\n",
    "test_scores=np.array(test_scores)\n",
    "print(train_scores.mean())\n",
    "print(test_scores)\n",
    "\n",
    "'''test_scores=[]\n",
    "train_scores=[]\n",
    "for i in range(10):\n",
    "    X_tr, X_ts, y_tr, y_ts = train_test_split(df_scaled, wine[\"quality\"] , test_size=0.25)\n",
    "    svc=LinearSVC(max_iter=10000)\n",
    "    svc.fit(X_tr, y_tr)\n",
    "    train_scores.append(svc.score(X_tr, y_tr))\n",
    "    test_scores.append(svc.score(X_ts, y_ts))\n",
    "train_scores=np.array(train_scores)\n",
    "test_scores=np.array(test_scores)\n",
    "print(train_scores.mean())\n",
    "print(test_scores.mean())'''\n",
    "\n",
    "    "
   ]
  },
  {
   "cell_type": "markdown",
   "metadata": {},
   "source": [
    "The second analysis was done without feature selection, directly training on SVC.The result was approximately the same. Something to note is that SVC doesn't overfit the training data given our C value, as the training accuracy is only slightly higher than the testing accuracy."
   ]
  },
  {
   "cell_type": "code",
   "execution_count": 319,
   "metadata": {},
   "outputs": [
    {
     "data": {
      "text/plain": [
       "<module 'matplotlib.pyplot' from '/opt/anaconda3/lib/python3.8/site-packages/matplotlib/pyplot.py'>"
      ]
     },
     "execution_count": 319,
     "metadata": {},
     "output_type": "execute_result"
    },
    {
     "data": {
      "image/png": "[encoded data removed]",
      "text/plain": [
       "<Figure size 432x288 with 1 Axes>"
      ]
     },
     "metadata": {},
     "output_type": "display_data"
    }
   ],
   "source": [
    "test_scores=[]\n",
    "train_scores=[]\n",
    "C_nums=[0.05, 0.1, 0.2, 0.4, 0.5, 0.8, 1, 1.5, 2, 2.5, 3,5, 5, 10,15,20]\n",
    "for i in C_nums:\n",
    "    X_tr, X_ts, y_tr, y_ts = train_test_split(eng_scaled, wine_df[\"level\"] , test_size=0.25)\n",
    "    #svc=LinearSVC()\n",
    "    #adjust C & gamma\n",
    "    svc=svm.SVC(kernel='rbf', C=i)\n",
    "    #adjust kernel=poly and degree\n",
    "    #svc=svm.SVC(kernel=\"poly\", degree=3, C=10)\n",
    "    svc.fit(X_tr, y_tr)\n",
    "    train_scores.append(svc.score(X_tr, y_tr))\n",
    "    test_scores.append(svc.score(X_ts, y_ts))\n",
    "train_scores=np.array(train_scores)\n",
    "test_scores=np.array(test_scores)\n",
    "plt.title(\"Effect of C\")\n",
    "plt.xlabel(\"C\")\n",
    "plt.ylabel(\"score\")\n",
    "plt.plot(C_nums, test_scores,'r')\n",
    "plt.plot(C_nums, train_scores,'g')\n",
    "plt\n"
   ]
  },
  {
   "cell_type": "markdown",
   "metadata": {},
   "source": [
    "Larger C creates smaller margin for decision boundaries, while smaller C values maximizes larger margin/distance between decision boundaries and trading off with accuracy. As C becomes too large, overfitting will occur, so training accuracy increase, yet testing accuracy will remain approximately the same value or decrease. "
   ]
  },
  {
   "cell_type": "markdown",
   "metadata": {},
   "source": [
    "### Logistic Regression"
   ]
  },
  {
   "cell_type": "code",
   "execution_count": null,
   "metadata": {},
   "outputs": [],
   "source": [
    "#logistic regression is used for two-class classification, therefore classification is grouped by l\n",
    "ts_scores=[]\n",
    "tr_scores=[]\n",
    "sizes=[0.15,0.2, 0.25, 0.3, 0.33,0.35]\n",
    "for n in sizes:\n",
    "    X_tr, X_ts, y_tr, y_ts = train_test_split(wine_df.drop(columns=[\"quality\",\"level\"]), wine_df[\"level\"] , test_size=n)\n",
    "    #X_tr, X_ts, y_tr, y_ts = train_test_split(wine.drop(columns=[\"quality\"]), wine_df[\"quality\"] , test_size=n)\n",
    "\n",
    "    reg=LogisticRegression(max_iter=10000, multi_class='multinomial', solver='lbfgs')\n",
    "    reg.fit(X_tr, y_tr)\n",
    "    tr_scores.append(reg.score(X_tr, y_tr))\n",
    "    ts_scores.append(reg.score(X_ts, y_ts))\n",
    "    \n",
    "print(ts_scores)\n",
    "plt.title(\"Effect of test_size\")\n",
    "plt.xlabel(\"test_size\")\n",
    "plt.ylabel(\"score\")\n",
    "plt.plot(sizes, ts_scores,'r')\n",
    "plt.plot(sizes, tr_scores,'g')\n",
    "plt"
   ]
  },
  {
   "cell_type": "markdown",
   "metadata": {},
   "source": [
    "Comparing to other models, Logistic Regression gives an acceptable result consistently larger than 0.815 regardless of test size. One of the differences/advantages of Logistic Regression is that it doesn't overfit on training data, as the accuracy flunctuates between [84%, 85%] (comparing to RandomForestClassifier which gives training data 100% accuracy). SVM works better than Logistic Regression because Logistic Regression is a lienar model, while SVM creates non-linear decision boundaries."
   ]
  },
  {
   "cell_type": "code",
   "execution_count": null,
   "metadata": {},
   "outputs": [],
   "source": []
  },
  {
   "cell_type": "markdown",
   "metadata": {},
   "source": [
    "### Guassian Naive-Bayes"
   ]
  },
  {
   "cell_type": "code",
   "execution_count": 229,
   "metadata": {},
   "outputs": [
    {
     "name": "stdout",
     "output_type": "stream",
     "text": [
      "0.7656380316930775\n"
     ]
    },
    {
     "data": {
      "text/plain": [
       "0.7525"
      ]
     },
     "execution_count": 229,
     "metadata": {},
     "output_type": "execute_result"
    }
   ],
   "source": [
    "X_tr, X_ts, y_tr, y_ts = train_test_split(wine_df.drop(columns=[\"quality\",\"level\"]), wine_df.level, test_size=0.25)\n",
    "\n",
    "gnb=GaussianNB()\n",
    "gnb.fit(X_tr, y_tr)\n",
    "print(gnb.score(X_tr, y_tr))\n",
    "gnb.score(X_ts, y_ts)\n",
    "#wine.columns\n"
   ]
  },
  {
   "cell_type": "markdown",
   "metadata": {},
   "source": [
    "Guassian Naive-Bayes model doesn't yield the best result because it assumes variables are normally distributed. Yet, some of our variables(shown in above histogram in EDA) are skewed, which makes this modelling less suitable. It also assumes variables to be conditionally independent, which isn't necessarily true, as density, pH, and acidity are correlated have complex relationships."
   ]
  },
  {
   "cell_type": "markdown",
   "metadata": {},
   "source": [
    "### Sochastic Gradient Descent Classifier"
   ]
  },
  {
   "cell_type": "code",
   "execution_count": 234,
   "metadata": {},
   "outputs": [
    {
     "name": "stdout",
     "output_type": "stream",
     "text": [
      "0.8273561301084237\n"
     ]
    },
    {
     "data": {
      "text/plain": [
       "0.8175"
      ]
     },
     "execution_count": 234,
     "metadata": {},
     "output_type": "execute_result"
    }
   ],
   "source": [
    "sgd=SGDClassifier(max_iter=2000)\n",
    "sgd.fit(X_tr, y_tr)\n",
    "print(sgd.score(X_tr, y_tr))\n",
    "sgd.score(X_ts, y_ts)"
   ]
  },
  {
   "cell_type": "code",
   "execution_count": 238,
   "metadata": {
    "scrolled": true
   },
   "outputs": [
    {
     "data": {
      "text/plain": [
       "[<matplotlib.lines.Line2D at 0x7fabf14f4b50>]"
      ]
     },
     "execution_count": 238,
     "metadata": {},
     "output_type": "execute_result"
    },
    {
     "data": {
      "image/png": "[encoded data removed]",
      "text/plain": [
       "<Figure size 432x288 with 1 Axes>"
      ]
     },
     "metadata": {},
     "output_type": "display_data"
    }
   ],
   "source": [
    "scores = []\n",
    "for i in range(1000,20000,1000):\n",
    "    sgd=SGDClassifier(max_iter=i)\n",
    "    sgd.fit(X_tr, y_tr)\n",
    "    scores.append(sgd.score(X_ts, y_ts))\n",
    "plt.title(\"Effect of n_iter\")\n",
    "plt.xlabel(\"n_iter\")\n",
    "plt.ylabel(\"score\")\n",
    "plt.plot(np.arange(1000,20000,1000), scores) \n",
    "#scores"
   ]
  },
  {
   "cell_type": "markdown",
   "metadata": {},
   "source": [
    "As seen above, sochastic gradient descent classifier doesn't work optimally regardless of the number of iterations. It reached an asymptotic accuracy of 0.8 at around 2500 iterations. Other parameters an be tuned to maximize performance. Yet, it also suggests a better feature engineering and selection is required to improve testing accuracy"
   ]
  },
  {
   "cell_type": "markdown",
   "metadata": {},
   "source": [
    "# Conclusion\n",
    "This project is a practice and demo of data science cycle, including Exploratory Data Analysis, Data Engineering, and Data Modelling (machine learning prediction). Due to limitations in domain knowledge, data engineering is restricted and doesn't raise the accuracy by a large amount. Within machine learning prediction, the goal was to predict the level of wine quality, and most of the predictions were accurate. RandomForestClassifier yields the best prediction accuracy, yet the training data sometimes overfit(training accuracy = 1). On the other hand, support vector machine has an accuracy around 85%, yet the training accuracy doesn't excel too much. Gaussian Naive Bayes and Stochastic Gradient Descent Classifier doesn't work well on the data, due to assumptions made on the models and can be inferred by the plots being drawn. Further research is required to make better engineered feature and optimize model through parameter tuning."
   ]
  },
  {
   "cell_type": "markdown",
   "metadata": {},
   "source": [
    "## Additional Experimentation"
   ]
  },
  {
   "cell_type": "code",
   "execution_count": 323,
   "metadata": {},
   "outputs": [
    {
     "data": {
      "text/plain": [
       "105"
      ]
     },
     "execution_count": 323,
     "metadata": {},
     "output_type": "execute_result"
    }
   ],
   "source": [
    "# Create additional features\n",
    "def create_product_variables(df,x,y):\n",
    "    df[str(df.columns[x])+\"*\"+str(df.columns[y])]=np.multiply(df.iloc[:,x],df.iloc[:,y])\n",
    "    #return pd.Series(name=str(x)+\"_\"+str(y),data=np.multiply(wine[x],wine[y]))\n",
    "n=len(wine.columns)\n",
    "prod_df=wine.copy()\n",
    "for i in range(n):\n",
    "    for j in range(i, n):\n",
    "        #wine=pd.concat([wine, create_product_variables(wine.columns[i],wine.columns[j])])\n",
    "        if(prod_df.columns[i]==\"quality\"):\n",
    "            break\n",
    "        if(prod_df.columns[j]!=\"quality\"):\n",
    "            create_product_variables(prod_df,i,j)\n",
    "def get_k_largest(df, k_num): \n",
    "    selectkbest = SelectKBest(chi2, k=k_num)\n",
    "    selectkbest.fit_transform(df.drop(columns=\"quality\",axis=1), df.quality)\n",
    "    df.columns.drop(\"quality\")[selectkbest.get_support()]\n",
    "\n",
    "    dfscores = pd.DataFrame(selectkbest.scores_)\n",
    "    dfcolumns = pd.DataFrame(df.columns.drop(\"quality\"))\n",
    "\n",
    "    featureScores = pd.concat([dfcolumns,dfscores],axis=1)\n",
    "    featureScores.columns = ['Variables','Score']\n",
    "    return featureScores.nlargest(k_num,'Score')\n",
    "#temp_var=get_k_largest(prod_df, 20)[\"Variables\"].values\n",
    "len(prod_df.columns)\n",
    "\n"
   ]
  },
  {
   "cell_type": "code",
   "execution_count": 324,
   "metadata": {},
   "outputs": [
    {
     "name": "stdout",
     "output_type": "stream",
     "text": [
      "index = 66\n",
      "0.903125\n",
      "[0.828125, 0.83125, 0.80625, 0.828125, 0.81875, 0.815625, 0.821875, 0.821875, 0.8375, 0.8375, 0.83125, 0.8, 0.840625, 0.85625, 0.859375, 0.853125, 0.865625, 0.89375, 0.84375, 0.8875, 0.853125, 0.875, 0.840625, 0.86875, 0.875, 0.871875, 0.85625, 0.884375, 0.85, 0.884375, 0.86875, 0.853125, 0.86875, 0.890625, 0.8875, 0.884375, 0.865625, 0.8375, 0.846875, 0.89375, 0.809375, 0.878125, 0.875, 0.853125, 0.88125, 0.871875, 0.859375, 0.871875, 0.86875, 0.859375, 0.871875, 0.85625, 0.86875, 0.865625, 0.88125, 0.85, 0.884375, 0.85, 0.89375, 0.85, 0.86875, 0.871875, 0.875, 0.88125, 0.875, 0.853125, 0.903125, 0.871875]\n"
     ]
    },
    {
     "data": {
      "text/plain": [
       "<module 'matplotlib.pyplot' from '/opt/anaconda3/lib/python3.8/site-packages/matplotlib/pyplot.py'>"
      ]
     },
     "execution_count": 324,
     "metadata": {},
     "output_type": "execute_result"
    },
    {
     "data": {
      "image/png": "[encoded data removed]",
      "text/plain": [
       "<Figure size 432x288 with 1 Axes>"
      ]
     },
     "metadata": {},
     "output_type": "display_data"
    }
   ],
   "source": [
    "ts_scores = []\n",
    "tr_scores = []\n",
    "features = []\n",
    "prod_df[\"level\"]=prod_df['quality'].apply(convert_level)\n",
    "#iterate through k=2 to k=10\n",
    "for i in np.arange(2,70):\n",
    "    selectkbest = SelectKBest(chi2, k=i)\n",
    "    #get k significant features and select those columns\n",
    "    X_new = selectkbest.fit_transform(prod_df.drop(columns=[\"quality\",\"level\"],axis=1), prod_df.level)\n",
    "    features.append(selectkbest.get_support())\n",
    "    X_tr, X_ts, y_tr, y_ts = train_test_split(X_new, prod_df[\"level\"] , test_size=0.2)\n",
    "    rc=RandomForestClassifier()\n",
    "    rc.fit(X_tr, y_tr)\n",
    "    #append the training and test scores with the new data X_new\n",
    "    tr_scores.append(rc.score(X_tr, y_tr))\n",
    "    ts_scores.append(rc.score(X_ts, y_ts))\n",
    "\n",
    "#select best k value that gives best test score\n",
    "maxscore = np.argmax(ts_scores)\n",
    "index = np.where(features[maxscore])[0]\n",
    "print(\"index = \"+str(maxscore))\n",
    "print(ts_scores[maxscore])\n",
    "print(ts_scores)\n",
    "\n",
    "plt.title(\"Effect of k features\")\n",
    "plt.xlabel(\"number of features\")\n",
    "plt.ylabel(\"score\")\n",
    "plt.plot(np.arange(2,70), ts_scores,'r')\n",
    "plt.plot(np.arange(2,70), tr_scores,'g')\n",
    "plt"
   ]
  },
  {
   "cell_type": "markdown",
   "metadata": {},
   "source": [
    "For experimental purpose, I multiplied variables toward each other, as some variable products might have signficance and is directly associated with wine quality. A plot of testing accuracy vs number of features is plotted modelled through RandomForestClassifier, giving a better testing accuracy(>0.9) than original data. More exploration is required to prevent overfitting and maximizing accuracy."
   ]
  },
  {
   "cell_type": "code",
   "execution_count": null,
   "metadata": {},
   "outputs": [],
   "source": []
  }
 ],
 "metadata": {
  "kernelspec": {
   "display_name": "Python 3",
   "language": "python",
   "name": "python3"
  },
  "language_info": {
   "codemirror_mode": {
    "name": "ipython",
    "version": 3
   },
   "file_extension": ".py",
   "mimetype": "text/x-python",
   "name": "python",
   "nbconvert_exporter": "python",
   "pygments_lexer": "ipython3",
   "version": "3.8.3"
  }
 },
 "nbformat": 4,
 "nbformat_minor": 4
}
